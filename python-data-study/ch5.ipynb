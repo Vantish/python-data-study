{
 "cells": [
  {
   "cell_type": "markdown",
   "id": "ac802e8d-1fe2-40ee-add2-71424e193325",
   "metadata": {},
   "source": [
    "## 5. 데이터 불러오기와 간단한 분석까지\n",
    "25.09.16"
   ]
  },
  {
   "cell_type": "code",
   "execution_count": 2,
   "id": "c3e10718-58b5-490f-b06a-daf1db33c875",
   "metadata": {},
   "outputs": [],
   "source": [
    "import numpy as np\n",
    "import pandas as pd"
   ]
  },
  {
   "cell_type": "markdown",
   "id": "6e606430-ebfa-415a-af9d-8cec2bc0aa66",
   "metadata": {},
   "source": [
    "### 5.1 파일 다루기  \n",
    "csv, json 파일 불러오기"
   ]
  },
  {
   "cell_type": "code",
   "execution_count": 8,
   "id": "0ac27310-92a2-418c-a2fb-9e2406e96912",
   "metadata": {},
   "outputs": [
    {
     "data": {
      "text/html": [
       "<div>\n",
       "<style scoped>\n",
       "    .dataframe tbody tr th:only-of-type {\n",
       "        vertical-align: middle;\n",
       "    }\n",
       "\n",
       "    .dataframe tbody tr th {\n",
       "        vertical-align: top;\n",
       "    }\n",
       "\n",
       "    .dataframe thead th {\n",
       "        text-align: right;\n",
       "    }\n",
       "</style>\n",
       "<table border=\"1\" class=\"dataframe\">\n",
       "  <thead>\n",
       "    <tr style=\"text-align: right;\">\n",
       "      <th></th>\n",
       "      <th>student_id</th>\n",
       "      <th>math</th>\n",
       "      <th>eng</th>\n",
       "      <th>kor</th>\n",
       "    </tr>\n",
       "  </thead>\n",
       "  <tbody>\n",
       "    <tr>\n",
       "      <th>0</th>\n",
       "      <td>101</td>\n",
       "      <td>80</td>\n",
       "      <td>95</td>\n",
       "      <td>88</td>\n",
       "    </tr>\n",
       "    <tr>\n",
       "      <th>1</th>\n",
       "      <td>102</td>\n",
       "      <td>92</td>\n",
       "      <td>85</td>\n",
       "      <td>90</td>\n",
       "    </tr>\n",
       "    <tr>\n",
       "      <th>2</th>\n",
       "      <td>103</td>\n",
       "      <td>75</td>\n",
       "      <td>80</td>\n",
       "      <td>66</td>\n",
       "    </tr>\n",
       "  </tbody>\n",
       "</table>\n",
       "</div>"
      ],
      "text/plain": [
       "   student_id  math  eng  kor\n",
       "0         101    80   95   88\n",
       "1         102    92   85   90\n",
       "2         103    75   80   66"
      ]
     },
     "execution_count": 8,
     "metadata": {},
     "output_type": "execute_result"
    }
   ],
   "source": [
    "temcsv1 = pd.read_csv(r'C:\\Users\\402\\workspace\\python-data-study\\sample\\sample1.csv')\n",
    "temcsv1"
   ]
  },
  {
   "cell_type": "code",
   "execution_count": 14,
   "id": "2393f06e-3d71-4b61-b74e-af327e55bcb5",
   "metadata": {},
   "outputs": [
    {
     "name": "stdout",
     "output_type": "stream",
     "text": [
      "RangeIndex(start=0, stop=3, step=1)\n"
     ]
    },
    {
     "data": {
      "text/html": [
       "<div>\n",
       "<style scoped>\n",
       "    .dataframe tbody tr th:only-of-type {\n",
       "        vertical-align: middle;\n",
       "    }\n",
       "\n",
       "    .dataframe tbody tr th {\n",
       "        vertical-align: top;\n",
       "    }\n",
       "\n",
       "    .dataframe thead th {\n",
       "        text-align: right;\n",
       "    }\n",
       "</style>\n",
       "<table border=\"1\" class=\"dataframe\">\n",
       "  <thead>\n",
       "    <tr style=\"text-align: right;\">\n",
       "      <th></th>\n",
       "      <th>math</th>\n",
       "      <th>eng</th>\n",
       "      <th>kor</th>\n",
       "    </tr>\n",
       "    <tr>\n",
       "      <th>student_id</th>\n",
       "      <th></th>\n",
       "      <th></th>\n",
       "      <th></th>\n",
       "    </tr>\n",
       "  </thead>\n",
       "  <tbody>\n",
       "    <tr>\n",
       "      <th>101</th>\n",
       "      <td>80</td>\n",
       "      <td>95</td>\n",
       "      <td>88</td>\n",
       "    </tr>\n",
       "    <tr>\n",
       "      <th>102</th>\n",
       "      <td>92</td>\n",
       "      <td>85</td>\n",
       "      <td>90</td>\n",
       "    </tr>\n",
       "    <tr>\n",
       "      <th>103</th>\n",
       "      <td>75</td>\n",
       "      <td>80</td>\n",
       "      <td>66</td>\n",
       "    </tr>\n",
       "  </tbody>\n",
       "</table>\n",
       "</div>"
      ],
      "text/plain": [
       "            math  eng  kor\n",
       "student_id                \n",
       "101           80   95   88\n",
       "102           92   85   90\n",
       "103           75   80   66"
      ]
     },
     "execution_count": 14,
     "metadata": {},
     "output_type": "execute_result"
    }
   ],
   "source": [
    "print(temcsv1.index)\n",
    "temcsv1.columns\n",
    "temcsv1.set_index('student_id')"
   ]
  },
  {
   "cell_type": "markdown",
   "id": "33b6c33c-2991-480c-a057-5422824d9e52",
   "metadata": {},
   "source": [
    "csv 파일 불러오기"
   ]
  },
  {
   "cell_type": "code",
   "execution_count": 18,
   "id": "82720c51-83d5-464d-96fb-5035a2594bb5",
   "metadata": {},
   "outputs": [
    {
     "name": "stdout",
     "output_type": "stream",
     "text": [
      "Index(['노트북', '키보드', '마우스'], dtype='object', name='상품명')\n",
      "Index(['가격', '재고'], dtype='object')\n"
     ]
    }
   ],
   "source": [
    "temcsv2 = pd.read_csv('sample/sample2.csv', encoding ='euc-kr')\n",
    "temcsv2 = temcsv2.set_index('상품명')\n",
    "print(temcsv2.index)\n",
    "print(temcsv2.columns)"
   ]
  },
  {
   "cell_type": "code",
   "execution_count": null,
   "id": "4829e020-0ed4-4d6c-8b2d-3eb5f7891315",
   "metadata": {},
   "outputs": [],
   "source": [
    "temcsv2 = pd.read_csv('sample/sample2.csv', encoding ='euc-kr')\n",
    "temcsv2.index = temcsv2['상품명']"
   ]
  },
  {
   "cell_type": "markdown",
   "id": "beabea3f-15c9-4ba2-99f6-3ae8a3707edd",
   "metadata": {},
   "source": [
    "json 파일 불러오기  \n",
    "파이썬의 딕셔너리와 구조가 비슷  \n",
    "json 파일을 파싱한다 == json 데이터를 파이썬에서 다룰 수 있는 형태로 변환한다.  \n",
    "json 파일을 만드는 방법  \n",
    "key : value  \n",
    "object : { }  \n",
    "list : [ ]   \n"
   ]
  },
  {
   "cell_type": "code",
   "execution_count": 22,
   "id": "004c6f9f-ab53-42ef-8ec4-a8cf22f7b4e7",
   "metadata": {},
   "outputs": [
    {
     "data": {
      "text/plain": [
       "{'id': 101, 'name': 'alice', 'age': 30}"
      ]
     },
     "execution_count": 22,
     "metadata": {},
     "output_type": "execute_result"
    }
   ],
   "source": [
    "#파이썬 방식으로 파일 열기\n",
    "import json\n",
    "f = open('sample/sample3.json', 'r')\n",
    "temdic = json.load(f)\n",
    "temdic"
   ]
  },
  {
   "cell_type": "code",
   "execution_count": 24,
   "id": "eb646992-27c7-460e-8c76-e507ea74a59c",
   "metadata": {},
   "outputs": [
    {
     "data": {
      "text/plain": [
       "dict_items([('name', '홍길동'), ('age', 25), ('city', '서울')])"
      ]
     },
     "execution_count": 24,
     "metadata": {},
     "output_type": "execute_result"
    }
   ],
   "source": [
    "f = open('sample/sample4.json', 'r', encoding = 'UTF-8')\n",
    "temdic = json.load(f)\n",
    "temdic.items()"
   ]
  },
  {
   "cell_type": "code",
   "execution_count": 27,
   "id": "4b75c108-7872-483f-9421-b52345c65498",
   "metadata": {},
   "outputs": [
    {
     "data": {
      "text/plain": [
       "[{'name': '홍길동', 'age': 25, 'city': '서울'},\n",
       " {'name': '김철수', 'age': 30, 'city': '부산'}]"
      ]
     },
     "execution_count": 27,
     "metadata": {},
     "output_type": "execute_result"
    }
   ],
   "source": [
    "f = open('sample/sample5.json', 'r', encoding = 'UTF-8')\n",
    "temdic = json.load(f)\n",
    "temdic"
   ]
  },
  {
   "cell_type": "code",
   "execution_count": 29,
   "id": "eb586f98-ec70-44a6-8918-441e84c819c5",
   "metadata": {},
   "outputs": [],
   "source": [
    "temdf = pd.read_json('sample/sample5.json', encoding = 'UTF-8')\n",
    "temdf = temdf.set_index('name')"
   ]
  },
  {
   "cell_type": "code",
   "execution_count": 30,
   "id": "ab09977a-90c8-4065-b063-1e22fff9318f",
   "metadata": {},
   "outputs": [
    {
     "data": {
      "text/html": [
       "<div>\n",
       "<style scoped>\n",
       "    .dataframe tbody tr th:only-of-type {\n",
       "        vertical-align: middle;\n",
       "    }\n",
       "\n",
       "    .dataframe tbody tr th {\n",
       "        vertical-align: top;\n",
       "    }\n",
       "\n",
       "    .dataframe thead th {\n",
       "        text-align: right;\n",
       "    }\n",
       "</style>\n",
       "<table border=\"1\" class=\"dataframe\">\n",
       "  <thead>\n",
       "    <tr style=\"text-align: right;\">\n",
       "      <th></th>\n",
       "      <th>age</th>\n",
       "      <th>city</th>\n",
       "    </tr>\n",
       "    <tr>\n",
       "      <th>name</th>\n",
       "      <th></th>\n",
       "      <th></th>\n",
       "    </tr>\n",
       "  </thead>\n",
       "  <tbody>\n",
       "    <tr>\n",
       "      <th>홍길동</th>\n",
       "      <td>25</td>\n",
       "      <td>서울</td>\n",
       "    </tr>\n",
       "    <tr>\n",
       "      <th>김철수</th>\n",
       "      <td>30</td>\n",
       "      <td>부산</td>\n",
       "    </tr>\n",
       "  </tbody>\n",
       "</table>\n",
       "</div>"
      ],
      "text/plain": [
       "      age city\n",
       "name          \n",
       "홍길동    25   서울\n",
       "김철수    30   부산"
      ]
     },
     "execution_count": 30,
     "metadata": {},
     "output_type": "execute_result"
    }
   ],
   "source": [
    "temdf"
   ]
  },
  {
   "cell_type": "code",
   "execution_count": 31,
   "id": "e00a6da4-955d-4e7e-bec3-06559fa3c0ae",
   "metadata": {},
   "outputs": [
    {
     "data": {
      "text/plain": [
       "age     30\n",
       "city    부산\n",
       "Name: 김철수, dtype: object"
      ]
     },
     "execution_count": 31,
     "metadata": {},
     "output_type": "execute_result"
    }
   ],
   "source": [
    "temdf.loc['김철수']"
   ]
  },
  {
   "cell_type": "markdown",
   "id": "d05fdf39-0902-4fed-abab-01f8483da6ac",
   "metadata": {},
   "source": [
    "### 5.3 데이터베이스 연결하기  \n",
    "설치형 데이터베이스 : mysql, oracle..  \n",
    "파일형 데이터베이스 : sqlite..  \n",
    "파일형 데이터베이스는 파일만 있으면 어디서든 열 수 있다."
   ]
  },
  {
   "cell_type": "markdown",
   "id": "2cd8f503-3eaa-4f76-98ff-c8c3e62d192a",
   "metadata": {},
   "source": [
    "데이터베이스 연결 및 테이블 생성"
   ]
  },
  {
   "cell_type": "code",
   "execution_count": 33,
   "id": "c11207c7-8f54-4cad-8580-09fe3a5ecbfd",
   "metadata": {},
   "outputs": [],
   "source": [
    "import sqlite3"
   ]
  },
  {
   "cell_type": "code",
   "execution_count": 34,
   "id": "28dd6111-77c4-401d-8d43-723f42efe951",
   "metadata": {},
   "outputs": [],
   "source": [
    "con = sqlite3.connect('mydata.sqlite')"
   ]
  },
  {
   "cell_type": "code",
   "execution_count": 35,
   "id": "149aa782-e3c9-4b53-ac7c-fcf74584d7e1",
   "metadata": {},
   "outputs": [],
   "source": [
    "con.execute('CREATE TABLE student (id INTEGER, name TEXT, age INTEGER)')\n",
    "\n",
    "con.execute(\"INSERT INTO student VALUES (1, '둘리', 25)\")\n",
    "con.execute(\"INSERT INTO student VALUES (2, '도우너', 30)\")\n",
    "con.commit()"
   ]
  },
  {
   "cell_type": "markdown",
   "id": "6818d659-63f0-457c-b7e4-08fda55e5766",
   "metadata": {},
   "source": [
    "테이블에 있는 데이터 조회"
   ]
  },
  {
   "cell_type": "code",
   "execution_count": 37,
   "id": "4341300e-d066-4218-ad49-574c3bc7f8dc",
   "metadata": {},
   "outputs": [
    {
     "data": {
      "text/plain": [
       "[(1, '둘리', 25), (2, '도우너', 30)]"
      ]
     },
     "execution_count": 37,
     "metadata": {},
     "output_type": "execute_result"
    }
   ],
   "source": [
    "cur = con.execute('SELECT * FROM student')\n",
    "rows = cur.fetchall()\n",
    "rows"
   ]
  },
  {
   "cell_type": "code",
   "execution_count": 38,
   "id": "e408387e-c530-4dd8-a305-60148ace9e69",
   "metadata": {},
   "outputs": [
    {
     "data": {
      "text/plain": [
       "(1, '둘리', 25)"
      ]
     },
     "execution_count": 38,
     "metadata": {},
     "output_type": "execute_result"
    }
   ],
   "source": [
    "cur = con.execute('SELECT * FROM student WHERE id = 1')\n",
    "row = cur.fetchone()\n",
    "row"
   ]
  },
  {
   "cell_type": "markdown",
   "id": "6da09e88-7fac-4cd3-a68d-62194f0f00ed",
   "metadata": {},
   "source": [
    "### 5.3 공공데이터 활용하기"
   ]
  },
  {
   "cell_type": "code",
   "execution_count": 41,
   "id": "0cbaa512-6247-450e-9164-572161e3770e",
   "metadata": {},
   "outputs": [
    {
     "data": {
      "text/html": [
       "<div>\n",
       "<style scoped>\n",
       "    .dataframe tbody tr th:only-of-type {\n",
       "        vertical-align: middle;\n",
       "    }\n",
       "\n",
       "    .dataframe tbody tr th {\n",
       "        vertical-align: top;\n",
       "    }\n",
       "\n",
       "    .dataframe thead th {\n",
       "        text-align: right;\n",
       "    }\n",
       "</style>\n",
       "<table border=\"1\" class=\"dataframe\">\n",
       "  <thead>\n",
       "    <tr style=\"text-align: right;\">\n",
       "      <th></th>\n",
       "      <th>지점</th>\n",
       "      <th>지점명</th>\n",
       "      <th>일시</th>\n",
       "      <th>기온(°C)</th>\n",
       "      <th>습도(%)</th>\n",
       "    </tr>\n",
       "  </thead>\n",
       "  <tbody>\n",
       "    <tr>\n",
       "      <th>0</th>\n",
       "      <td>112</td>\n",
       "      <td>인천</td>\n",
       "      <td>2025-09-14 01:00</td>\n",
       "      <td>22.2</td>\n",
       "      <td>84</td>\n",
       "    </tr>\n",
       "    <tr>\n",
       "      <th>1</th>\n",
       "      <td>112</td>\n",
       "      <td>인천</td>\n",
       "      <td>2025-09-14 02:00</td>\n",
       "      <td>21.8</td>\n",
       "      <td>86</td>\n",
       "    </tr>\n",
       "    <tr>\n",
       "      <th>2</th>\n",
       "      <td>112</td>\n",
       "      <td>인천</td>\n",
       "      <td>2025-09-14 03:00</td>\n",
       "      <td>21.7</td>\n",
       "      <td>87</td>\n",
       "    </tr>\n",
       "    <tr>\n",
       "      <th>3</th>\n",
       "      <td>112</td>\n",
       "      <td>인천</td>\n",
       "      <td>2025-09-14 04:00</td>\n",
       "      <td>21.4</td>\n",
       "      <td>87</td>\n",
       "    </tr>\n",
       "    <tr>\n",
       "      <th>4</th>\n",
       "      <td>112</td>\n",
       "      <td>인천</td>\n",
       "      <td>2025-09-14 05:00</td>\n",
       "      <td>21.2</td>\n",
       "      <td>87</td>\n",
       "    </tr>\n",
       "    <tr>\n",
       "      <th>5</th>\n",
       "      <td>112</td>\n",
       "      <td>인천</td>\n",
       "      <td>2025-09-14 06:00</td>\n",
       "      <td>21.2</td>\n",
       "      <td>87</td>\n",
       "    </tr>\n",
       "    <tr>\n",
       "      <th>6</th>\n",
       "      <td>112</td>\n",
       "      <td>인천</td>\n",
       "      <td>2025-09-14 07:00</td>\n",
       "      <td>21.3</td>\n",
       "      <td>87</td>\n",
       "    </tr>\n",
       "    <tr>\n",
       "      <th>7</th>\n",
       "      <td>112</td>\n",
       "      <td>인천</td>\n",
       "      <td>2025-09-14 08:00</td>\n",
       "      <td>22.3</td>\n",
       "      <td>86</td>\n",
       "    </tr>\n",
       "    <tr>\n",
       "      <th>8</th>\n",
       "      <td>112</td>\n",
       "      <td>인천</td>\n",
       "      <td>2025-09-14 09:00</td>\n",
       "      <td>22.9</td>\n",
       "      <td>85</td>\n",
       "    </tr>\n",
       "    <tr>\n",
       "      <th>9</th>\n",
       "      <td>112</td>\n",
       "      <td>인천</td>\n",
       "      <td>2025-09-14 10:00</td>\n",
       "      <td>23.8</td>\n",
       "      <td>82</td>\n",
       "    </tr>\n",
       "    <tr>\n",
       "      <th>10</th>\n",
       "      <td>112</td>\n",
       "      <td>인천</td>\n",
       "      <td>2025-09-14 11:00</td>\n",
       "      <td>24.6</td>\n",
       "      <td>79</td>\n",
       "    </tr>\n",
       "    <tr>\n",
       "      <th>11</th>\n",
       "      <td>112</td>\n",
       "      <td>인천</td>\n",
       "      <td>2025-09-14 12:00</td>\n",
       "      <td>25.9</td>\n",
       "      <td>71</td>\n",
       "    </tr>\n",
       "    <tr>\n",
       "      <th>12</th>\n",
       "      <td>112</td>\n",
       "      <td>인천</td>\n",
       "      <td>2025-09-14 13:00</td>\n",
       "      <td>26.9</td>\n",
       "      <td>64</td>\n",
       "    </tr>\n",
       "    <tr>\n",
       "      <th>13</th>\n",
       "      <td>112</td>\n",
       "      <td>인천</td>\n",
       "      <td>2025-09-14 14:00</td>\n",
       "      <td>27.4</td>\n",
       "      <td>61</td>\n",
       "    </tr>\n",
       "    <tr>\n",
       "      <th>14</th>\n",
       "      <td>112</td>\n",
       "      <td>인천</td>\n",
       "      <td>2025-09-14 15:00</td>\n",
       "      <td>27.7</td>\n",
       "      <td>65</td>\n",
       "    </tr>\n",
       "    <tr>\n",
       "      <th>15</th>\n",
       "      <td>112</td>\n",
       "      <td>인천</td>\n",
       "      <td>2025-09-14 16:00</td>\n",
       "      <td>27.4</td>\n",
       "      <td>70</td>\n",
       "    </tr>\n",
       "    <tr>\n",
       "      <th>16</th>\n",
       "      <td>112</td>\n",
       "      <td>인천</td>\n",
       "      <td>2025-09-14 17:00</td>\n",
       "      <td>27.0</td>\n",
       "      <td>68</td>\n",
       "    </tr>\n",
       "    <tr>\n",
       "      <th>17</th>\n",
       "      <td>112</td>\n",
       "      <td>인천</td>\n",
       "      <td>2025-09-14 18:00</td>\n",
       "      <td>26.4</td>\n",
       "      <td>70</td>\n",
       "    </tr>\n",
       "    <tr>\n",
       "      <th>18</th>\n",
       "      <td>112</td>\n",
       "      <td>인천</td>\n",
       "      <td>2025-09-14 19:00</td>\n",
       "      <td>25.2</td>\n",
       "      <td>73</td>\n",
       "    </tr>\n",
       "    <tr>\n",
       "      <th>19</th>\n",
       "      <td>112</td>\n",
       "      <td>인천</td>\n",
       "      <td>2025-09-14 20:00</td>\n",
       "      <td>24.7</td>\n",
       "      <td>78</td>\n",
       "    </tr>\n",
       "    <tr>\n",
       "      <th>20</th>\n",
       "      <td>112</td>\n",
       "      <td>인천</td>\n",
       "      <td>2025-09-14 21:00</td>\n",
       "      <td>24.5</td>\n",
       "      <td>82</td>\n",
       "    </tr>\n",
       "    <tr>\n",
       "      <th>21</th>\n",
       "      <td>112</td>\n",
       "      <td>인천</td>\n",
       "      <td>2025-09-14 22:00</td>\n",
       "      <td>24.2</td>\n",
       "      <td>85</td>\n",
       "    </tr>\n",
       "    <tr>\n",
       "      <th>22</th>\n",
       "      <td>112</td>\n",
       "      <td>인천</td>\n",
       "      <td>2025-09-14 23:00</td>\n",
       "      <td>23.9</td>\n",
       "      <td>84</td>\n",
       "    </tr>\n",
       "    <tr>\n",
       "      <th>23</th>\n",
       "      <td>112</td>\n",
       "      <td>인천</td>\n",
       "      <td>2025-09-15 00:00</td>\n",
       "      <td>23.7</td>\n",
       "      <td>84</td>\n",
       "    </tr>\n",
       "  </tbody>\n",
       "</table>\n",
       "</div>"
      ],
      "text/plain": [
       "     지점 지점명                일시  기온(°C)  습도(%)\n",
       "0   112  인천  2025-09-14 01:00    22.2     84\n",
       "1   112  인천  2025-09-14 02:00    21.8     86\n",
       "2   112  인천  2025-09-14 03:00    21.7     87\n",
       "3   112  인천  2025-09-14 04:00    21.4     87\n",
       "4   112  인천  2025-09-14 05:00    21.2     87\n",
       "5   112  인천  2025-09-14 06:00    21.2     87\n",
       "6   112  인천  2025-09-14 07:00    21.3     87\n",
       "7   112  인천  2025-09-14 08:00    22.3     86\n",
       "8   112  인천  2025-09-14 09:00    22.9     85\n",
       "9   112  인천  2025-09-14 10:00    23.8     82\n",
       "10  112  인천  2025-09-14 11:00    24.6     79\n",
       "11  112  인천  2025-09-14 12:00    25.9     71\n",
       "12  112  인천  2025-09-14 13:00    26.9     64\n",
       "13  112  인천  2025-09-14 14:00    27.4     61\n",
       "14  112  인천  2025-09-14 15:00    27.7     65\n",
       "15  112  인천  2025-09-14 16:00    27.4     70\n",
       "16  112  인천  2025-09-14 17:00    27.0     68\n",
       "17  112  인천  2025-09-14 18:00    26.4     70\n",
       "18  112  인천  2025-09-14 19:00    25.2     73\n",
       "19  112  인천  2025-09-14 20:00    24.7     78\n",
       "20  112  인천  2025-09-14 21:00    24.5     82\n",
       "21  112  인천  2025-09-14 22:00    24.2     85\n",
       "22  112  인천  2025-09-14 23:00    23.9     84\n",
       "23  112  인천  2025-09-15 00:00    23.7     84"
      ]
     },
     "execution_count": 41,
     "metadata": {},
     "output_type": "execute_result"
    }
   ],
   "source": [
    "opencv = pd.read_csv('sample/OBS_ASOS_TIM_20250916161027.csv', encoding = 'euc-kr')\n",
    "opencv"
   ]
  },
  {
   "cell_type": "code",
   "execution_count": 42,
   "id": "d7bab85d-beeb-46ad-a62c-5c625898adde",
   "metadata": {},
   "outputs": [
    {
     "name": "stdout",
     "output_type": "stream",
     "text": [
      "RangeIndex(start=0, stop=24, step=1)\n",
      "Index(['지점', '지점명', '일시', '기온(°C)', '습도(%)'], dtype='object')\n"
     ]
    }
   ],
   "source": [
    "print(opencv.index)\n",
    "print(opencv.columns)"
   ]
  },
  {
   "cell_type": "markdown",
   "id": "8f34256e-97cb-474d-be40-d520d224b98d",
   "metadata": {},
   "source": [
    "하루 평균 기온과 습도 구하기"
   ]
  },
  {
   "cell_type": "code",
   "execution_count": 44,
   "id": "ef4f91e4-cdb6-4f4a-b8e7-93cab9807e42",
   "metadata": {},
   "outputs": [
    {
     "name": "stdout",
     "output_type": "stream",
     "text": [
      "24.1375\n",
      "78.83333333333333\n"
     ]
    }
   ],
   "source": [
    "print(opencv['기온(°C)'].mean())\n",
    "print(opencv['습도(%)'].mean())"
   ]
  },
  {
   "cell_type": "code",
   "execution_count": 47,
   "id": "9ce37099-d15f-4861-9b10-2315657e78a9",
   "metadata": {},
   "outputs": [
    {
     "name": "stdout",
     "output_type": "stream",
     "text": [
      "14\n"
     ]
    }
   ],
   "source": [
    "print(opencv['기온(°C)'].idxmax())"
   ]
  },
  {
   "cell_type": "code",
   "execution_count": 48,
   "id": "c1f34a9b-05d7-4148-931f-88e6ad6ba8a3",
   "metadata": {},
   "outputs": [
    {
     "data": {
      "text/plain": [
       "'2025-09-14 15:00'"
      ]
     },
     "execution_count": 48,
     "metadata": {},
     "output_type": "execute_result"
    }
   ],
   "source": [
    "opencv.loc[opencv['기온(°C)'].idxmax(), '일시']"
   ]
  }
 ],
 "metadata": {
  "kernelspec": {
   "display_name": "Python 3 (ipykernel)",
   "language": "python",
   "name": "python3"
  },
  "language_info": {
   "codemirror_mode": {
    "name": "ipython",
    "version": 3
   },
   "file_extension": ".py",
   "mimetype": "text/x-python",
   "name": "python",
   "nbconvert_exporter": "python",
   "pygments_lexer": "ipython3",
   "version": "3.10.18"
  }
 },
 "nbformat": 4,
 "nbformat_minor": 5
}
