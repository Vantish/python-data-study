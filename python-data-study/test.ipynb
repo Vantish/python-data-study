{
 "cells": [
  {
   "cell_type": "markdown",
   "id": "f63db90e-7b79-440b-927b-4c624a3bccf9",
   "metadata": {},
   "source": [
    "## 제목\n",
    "### 제목 2\n",
    "마크다운이란? html과 비슷하게 텍스트를 작성하는 언어\n",
    "# * 기호로 제목이나 목록을 작성할 수 있다."
   ]
  },
  {
   "cell_type": "markdown",
   "id": "4001e98b-37f2-4e08-9a7a-838061885ed5",
   "metadata": {},
   "source": [
    "a = 5\n",
    "print(a)"
   ]
  },
  {
   "cell_type": "code",
   "execution_count": null,
   "id": "f0725a3e-216a-46ff-ba25-329ecc370d1d",
   "metadata": {},
   "outputs": [],
   "source": [
    "var1 = 10\n",
    "var2 = 20"
   ]
  },
  {
   "cell_type": "code",
   "execution_count": null,
   "id": "f491bb68-7dcf-4993-8ff8-82f2765279de",
   "metadata": {},
   "outputs": [],
   "source": [
    "var1\n",
    "var2"
   ]
  },
  {
   "cell_type": "code",
   "execution_count": null,
   "id": "20ba63f8-1d3e-4f26-8f6f-e7dbb8153f4f",
   "metadata": {},
   "outputs": [],
   "source": [
    "10"
   ]
  },
  {
   "cell_type": "code",
   "execution_count": null,
   "id": "3e65f7d2-8cc5-427a-a432-b6aec50eccb8",
   "metadata": {},
   "outputs": [],
   "source": []
  },
  {
   "cell_type": "code",
   "execution_count": null,
   "id": "d46647fb-387e-43df-abc0-cc4f3f327781",
   "metadata": {},
   "outputs": [],
   "source": []
  },
  {
   "cell_type": "code",
   "execution_count": null,
   "id": "36d365a8-1452-424e-93ab-ed649e01c764",
   "metadata": {},
   "outputs": [],
   "source": []
  }
 ],
 "metadata": {
  "kernelspec": {
   "display_name": "Python 3 (ipykernel)",
   "language": "python",
   "name": "python3"
  },
  "language_info": {
   "codemirror_mode": {
    "name": "ipython",
    "version": 3
   },
   "file_extension": ".py",
   "mimetype": "text/x-python",
   "name": "python",
   "nbconvert_exporter": "python",
   "pygments_lexer": "ipython3",
   "version": "3.10.18"
  }
 },
 "nbformat": 4,
 "nbformat_minor": 5
}
