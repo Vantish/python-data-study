{
 "cells": [
  {
   "cell_type": "markdown",
   "id": "481c1e0d-6d45-42b6-8af8-697251a8c692",
   "metadata": {},
   "source": [
    "## 3. 넘파이\n",
    "\n",
    "넘파이란? 다차원 배열과 수학함수를 제공하는 모듈(라이브러리)  \n",
    "모듈이란? 필요한 기능을 미리 만들어두고 가져다 쓰는 것"
   ]
  },
  {
   "cell_type": "markdown",
   "id": "0ae1a3bf-82e7-4610-b6db-c8bbb69cab97",
   "metadata": {},
   "source": [
    "3.1 ndarry  \n",
    "다차원 배열  \n",
    " 1) 다차원 배열의 특징 : 리스트와 비교했을때 계산속도가 빠름  \n",
    " 2) 리스트와 달리 모든 요소의 타입이 같음"
   ]
  },
  {
   "cell_type": "code",
   "execution_count": 1,
   "id": "4e99985e-bb64-44a0-b337-45037588c31c",
   "metadata": {},
   "outputs": [],
   "source": [
    "# numpy 모듈 가져오기\n",
    "import numpy as np"
   ]
  },
  {
   "cell_type": "code",
   "execution_count": 4,
   "id": "5b7b9fbb-2cb2-406f-9d89-583358840389",
   "metadata": {},
   "outputs": [
    {
     "data": {
      "text/plain": [
       "(array([1, 2, 3]), array(['a', 'b', 'c'], dtype='<U1'))"
      ]
     },
     "execution_count": 4,
     "metadata": {},
     "output_type": "execute_result"
    }
   ],
   "source": [
    "a = np.array([1, 2, 3])\n",
    "a\n",
    "b = np.array(['a', 'b', 'c'])\n",
    "a, b"
   ]
  },
  {
   "cell_type": "markdown",
   "id": "6ce49eb8-1e77-473d-bd49-df7eb744a579",
   "metadata": {},
   "source": [
    "2차원 배열"
   ]
  },
  {
   "cell_type": "code",
   "execution_count": 8,
   "id": "8bee042d-6264-4fd6-a78b-cb86de1645f0",
   "metadata": {},
   "outputs": [
    {
     "data": {
      "text/plain": [
       "array([[1, 2, 3],\n",
       "       [4, 5, 6],\n",
       "       [7, 8, 9]])"
      ]
     },
     "execution_count": 8,
     "metadata": {},
     "output_type": "execute_result"
    }
   ],
   "source": [
    "c = np.array([[1, 2, 3], [4, 5, 6]])\n",
    "c\n",
    "d = np.array([[1, 2, 3], [4, 5, 6], [7, 8, 9]])\n",
    "d\n"
   ]
  },
  {
   "cell_type": "code",
   "execution_count": null,
   "id": "a8859513-8d7a-45e6-9b16-4e57be148932",
   "metadata": {},
   "outputs": [],
   "source": [
    "# arrange : 숫자를 여럿 생성하는 함수\n",
    "tempnum1 = np.arange(10)\n",
    "\n",
    "tempnum2 = np.arange(1, 11)\n",
    "\n",
    "tempnum3 = np.arange(1, 11, 2)"
   ]
  },
  {
   "cell_type": "code",
   "execution_count": 9,
   "id": "2692f29a-e847-4ed2-9cda-82dd41f71858",
   "metadata": {},
   "outputs": [
    {
     "name": "stdout",
     "output_type": "stream",
     "text": [
      "[85 90 78 92 88]\n",
      "[160 165 170 175 180]\n",
      "[1200 1500 1800 2100]\n",
      "[20 22 19 25 30]\n"
     ]
    }
   ],
   "source": [
    "# 파이썬 리스트 SCORES = [85, 90, 78, 92, 88] 을 넘파이 배열로 변환하여 출력하세요\n",
    "numlis1 = np.array([85, 90, 78, 92, 88])\n",
    "print(numlis1)\n",
    "\n",
    "# 리스트 heights = [160, 165, 170, 175, 180] 을 넘파이 배열로 변환하여 출력하세요\n",
    "heights = [160, 165, 170, 175, 180]\n",
    "numlis2 = np.array(heights)\n",
    "print(numlis2)\n",
    "\n",
    "# 리스트 prices = [1200, 1500, 1800, 2100] 을 넘파이 배열로 변환하여 출력하세요\n",
    "prices = [1200, 1500, 1800, 2100]\n",
    "numlis3 = np.array(prices)\n",
    "print(numlis3)\n",
    "\n",
    "# 리스트 temps = [20, 22, 19, 25, 30] 을 넘파이 배열로 변환하여 출력하세요\n",
    "temps = [20, 22, 19, 25, 30]\n",
    "nuulis4 = np.array(temps)\n",
    "print(numlis4)"
   ]
  },
  {
   "cell_type": "code",
   "execution_count": 10,
   "id": "9d6b76f8-62a7-4bf1-aa25-149fa4c0124b",
   "metadata": {},
   "outputs": [
    {
     "name": "stdout",
     "output_type": "stream",
     "text": [
      "[0 1 2 3]\n",
      "[0 1 2 3 4 5 6 7 8]\n",
      "[3 4 5 6]\n",
      "[-2 -1  0  1]\n"
     ]
    }
   ],
   "source": [
    "def 귀찮으니함수화(a1, a2, a3 = 0):\n",
    "    if a3 != 0:\n",
    "        return np.arange(a1, a2, a3)\n",
    "    else:\n",
    "        return np.arange(a1, a2)\n",
    "# 0부터 4까지 숫자를 원소로 가지는 배열을 생성하세요.\n",
    "numar1 = 귀찮으니함수화(0, 4)\n",
    "print(numar1)\n",
    "\n",
    "# 0부터 9까지 숫자를 원소로 가지는 배열을 생성하세요.\n",
    "numar2 = 귀찮으니함수화(0, 9)\n",
    "print(numar2)\n",
    "\n",
    "# 3부터 7까지 숫자를 원소로 가지는 배열을 생성하세요.\n",
    "numar3 = 귀찮으니함수화(3, 7)\n",
    "print(numar3)\n",
    "\n",
    "# 0부터 4까지 숫자를 원소로 가지는 배열을 생성하세요.\n",
    "numar4 = 귀찮으니함수화(-2, 2)\n",
    "print(numar4)\n"
   ]
  },
  {
   "cell_type": "code",
   "execution_count": 16,
   "id": "76019edb-3eec-4667-ac64-e53023b33610",
   "metadata": {},
   "outputs": [
    {
     "name": "stdout",
     "output_type": "stream",
     "text": [
      "[0. 0. 0. 0. 0. 0. 0. 0. 0. 0.]\n",
      "[[0. 0. 0. 0.]\n",
      " [0. 0. 0. 0.]\n",
      " [0. 0. 0. 0.]\n",
      " [0. 0. 0. 0.]\n",
      " [0. 0. 0. 0.]]\n",
      "[[[0. 0.]\n",
      "  [0. 0.]\n",
      "  [0. 0.]\n",
      "  [0. 0.]]\n",
      "\n",
      " [[0. 0.]\n",
      "  [0. 0.]\n",
      "  [0. 0.]\n",
      "  [0. 0.]]\n",
      "\n",
      " [[0. 0.]\n",
      "  [0. 0.]\n",
      "  [0. 0.]\n",
      "  [0. 0.]]\n",
      "\n",
      " [[0. 0.]\n",
      "  [0. 0.]\n",
      "  [0. 0.]\n",
      "  [0. 0.]]\n",
      "\n",
      " [[0. 0.]\n",
      "  [0. 0.]\n",
      "  [0. 0.]\n",
      "  [0. 0.]]]\n"
     ]
    }
   ],
   "source": [
    "tempzero1 = np.zeros(10)\n",
    "print(tempzero1)\n",
    "\n",
    "tempzero2 = np.zeros((5, 4))\n",
    "print(tempzero2)\n",
    "\n",
    "tempzero3 = np.zeros((5, 4, 2))\n",
    "print(tempzero3)"
   ]
  },
  {
   "cell_type": "code",
   "execution_count": 17,
   "id": "6d53bbfa-aace-44aa-a9a2-4ec077ee3ba9",
   "metadata": {},
   "outputs": [
    {
     "name": "stdout",
     "output_type": "stream",
     "text": [
      "float64\n",
      "3\n",
      "(5, 4, 2)\n"
     ]
    }
   ],
   "source": [
    "print(tempzero3.dtype)\n",
    "print(tempzero3.ndim)\n",
    "print(tempzero3.shape)"
   ]
  },
  {
   "cell_type": "code",
   "execution_count": 19,
   "id": "69b5be6c-b2e2-4692-beb4-9813e85d3df3",
   "metadata": {},
   "outputs": [
    {
     "name": "stdout",
     "output_type": "stream",
     "text": [
      "int64\n",
      "2\n",
      "(2, 3)\n"
     ]
    }
   ],
   "source": [
    "templargear = np.array([[1,2,3], [4,5,6]])\n",
    "print(templargear.dtype)\n",
    "print(templargear.ndim)\n",
    "print(templargear.shape)"
   ]
  },
  {
   "cell_type": "code",
   "execution_count": 21,
   "id": "c394e0a3-99e7-4d6d-b51f-05277f0c25f1",
   "metadata": {},
   "outputs": [
    {
     "name": "stdout",
     "output_type": "stream",
     "text": [
      "float64\n",
      "[1 2 3]\n",
      "int32\n"
     ]
    }
   ],
   "source": [
    "temparrr = np.array([1.1, 2.2, 3.3])\n",
    "\n",
    "print(temparrr.dtype)\n",
    "\n",
    "temparrr2 = temparrr.astype(np.int32)\n",
    "print(temparrr2)\n",
    "print(temparrr2.dtype)"
   ]
  },
  {
   "cell_type": "code",
   "execution_count": 22,
   "id": "5b4311e9-8609-4e16-bd98-362726bb4bd2",
   "metadata": {},
   "outputs": [
    {
     "name": "stdout",
     "output_type": "stream",
     "text": [
      "[0 1 2 3 4 5 6 7 8 9]\n",
      "1\n",
      "[3 4 5]\n",
      "[ 0 99  2  3  4  5  6  7  8  9]\n"
     ]
    }
   ],
   "source": [
    "a = np.arange(10)\n",
    "print(a)\n",
    "print(a[1])\n",
    "\n",
    "print(a[3:6])\n",
    "\n",
    "a[1] = 99\n",
    "print(a)"
   ]
  },
  {
   "cell_type": "code",
   "execution_count": 24,
   "id": "59f4076b-0153-4f48-b7b0-48d1a2daef17",
   "metadata": {},
   "outputs": [
    {
     "name": "stdout",
     "output_type": "stream",
     "text": [
      "[999 999 999 999 999 999 999 999 999 999]\n"
     ]
    }
   ],
   "source": [
    "a[:] = 999\n",
    "print(a)"
   ]
  },
  {
   "cell_type": "code",
   "execution_count": 28,
   "id": "cdd0efee-86b3-49ec-bb23-a1e18e052dc7",
   "metadata": {},
   "outputs": [
    {
     "name": "stdout",
     "output_type": "stream",
     "text": [
      "10\n",
      "30\n",
      "50\n",
      "[ 10 200  30  40  50]\n",
      "[ 10 200  30 999  50]\n",
      "<class 'numpy.ndarray'>\n",
      "<class 'list'>\n"
     ]
    }
   ],
   "source": [
    "arr = np.array([10, 20, 30, 40, 50])\n",
    "\n",
    "# 배열의 첫번째 값을 꺼내서 출력하세요.\n",
    "print(arr[0])\n",
    "\n",
    "# 배열의 세번째 값을 꺼내서 출력하세요.\n",
    "print(arr[2])\n",
    "\n",
    "# 배열의 마지막 값을 꺼내서 출력하세요.\n",
    "print(arr[len(arr) - 1])\n",
    "\n",
    "# 배열의 두번째 값을 200으로 바꾸세요.\n",
    "arr[1] = 200\n",
    "print(arr)\n",
    "\n",
    "# 배열의 네번째 값을 999로 바꾸세요.\n",
    "arr[3] = 999\n",
    "print(arr)\n",
    "\n",
    "print(type(arr))\n",
    "print(type([1,2,3]))"
   ]
  },
  {
   "cell_type": "code",
   "execution_count": 34,
   "id": "5f9159ab-2586-4b2c-b2da-33aa65569f7e",
   "metadata": {},
   "outputs": [
    {
     "name": "stdout",
     "output_type": "stream",
     "text": [
      "나\n",
      "라\n",
      "마\n",
      "['하' '나' '다' '라' '마']\n",
      "['하' '나' '호' '라' '마']\n"
     ]
    }
   ],
   "source": [
    "arr = np.array(['가', '나', '다', '라', '마'])\n",
    "\n",
    "# 배열의 두번째 값을 꺼내서 출력하세요\n",
    "print(arr[1])\n",
    "\n",
    "# 배열의 네번째 값을 꺼내서 출력하세요\n",
    "print(arr[3])\n",
    "\n",
    "# 배열의 마지막 값을 꺼내서 출력하세요\n",
    "print(arr[len(arr) - 1])\n",
    "\n",
    "# 배열의 첫번째 값을 '하'로 바꾸세요\n",
    "arr[0] = '하'\n",
    "print(arr)\n",
    "\n",
    "# 배열의 세번째 값을 '호'로 바꾸세요\n",
    "arr[2] = '호'\n",
    "print(arr)\n"
   ]
  },
  {
   "cell_type": "code",
   "execution_count": 36,
   "id": "3b99279c-d0f7-455c-80cc-ba7a85af39a1",
   "metadata": {},
   "outputs": [
    {
     "name": "stdout",
     "output_type": "stream",
     "text": [
      "[10 20 30]\n",
      "[40 50 60 70]\n",
      "[20 30 40 50]\n"
     ]
    }
   ],
   "source": [
    "arr = np.array([10, 20, 30, 40, 50, 60, 70])\n",
    "\n",
    "# 배열의 처음 3개 값을 꺼내서 출력하세요\n",
    "print(arr[ : 3])\n",
    "\n",
    "# 배열의 네번째부터 끝까지 값을 꺼내서 출력하세요\n",
    "print(arr[3 : ])\n",
    "\n",
    "# 배열의 두번째부터 다섯번째까지 값을 꺼내서 출력하세요\n",
    "print(arr[1 : 5])"
   ]
  },
  {
   "cell_type": "code",
   "execution_count": 38,
   "id": "1db6f58c-98de-4f94-98a1-c759bdccfcd2",
   "metadata": {},
   "outputs": [
    {
     "name": "stdout",
     "output_type": "stream",
     "text": [
      "['a' 'b' 'c']\n",
      "['d' 'e' 'f' 'g']\n",
      "['b' 'c' 'd' 'e']\n"
     ]
    }
   ],
   "source": [
    "arr = np.array(['a', 'b', 'c', 'd', 'e', 'f', 'g'])\n",
    "\n",
    "# 배열의 처음 3개 값을 꺼내서 출력하세요\n",
    "print(arr[ : 3])\n",
    "\n",
    "# 배열의 네번째부터 끝까지 값을 꺼내서 출력하세요\n",
    "print(arr[3 : ])\n",
    "\n",
    "# 배열의 두번째부터 다섯번째까지 값을 꺼내서 출력하세요\n",
    "print(arr[1 : 5])"
   ]
  },
  {
   "cell_type": "markdown",
   "id": "cce7d5d0-fb24-4a6d-9f73-c2f82f1e9840",
   "metadata": {},
   "source": [
    "### 2차원 배열의 인덱싱"
   ]
  },
  {
   "cell_type": "code",
   "execution_count": 43,
   "id": "dfd0866f-361f-44eb-bfdb-bf4dffd90307",
   "metadata": {},
   "outputs": [
    {
     "name": "stdout",
     "output_type": "stream",
     "text": [
      "6\n",
      "9\n",
      "5\n"
     ]
    }
   ],
   "source": [
    "arr = np.array([[1,2,3], [4,5,6], [7,8,9]])\n",
    "\n",
    "print(arr[1][2])\n",
    "print(arr[2][2])\n",
    "print(arr[1][1])"
   ]
  },
  {
   "cell_type": "code",
   "execution_count": 42,
   "id": "15558e04-021f-4868-adbf-f3ad934e5b64",
   "metadata": {},
   "outputs": [
    {
     "name": "stdout",
     "output_type": "stream",
     "text": [
      "[[ 1  2  3  4]\n",
      " [ 5  6  7  8]\n",
      " [ 9 10 11 12]\n",
      " [13 14 15 16]]\n"
     ]
    }
   ],
   "source": [
    "arr = np.array([[1,2,3,4],[5,6,7,8],[9,10,11,12],[13,14,15,16]])\n",
    "print(arr)"
   ]
  },
  {
   "cell_type": "markdown",
   "id": "8ebe2dc0-03af-4ede-9beb-5f61c6141a07",
   "metadata": {},
   "source": [
    "### 2차원 배열의 인덱싱"
   ]
  },
  {
   "cell_type": "code",
   "execution_count": 47,
   "id": "f76ad687-d57b-44f6-ab56-d6ec52a6895c",
   "metadata": {},
   "outputs": [
    {
     "name": "stdout",
     "output_type": "stream",
     "text": [
      "[[1 2 3]\n",
      " [4 5 6]]\n",
      "[[1 2]\n",
      " [4 5]]\n",
      "[4 5]\n"
     ]
    }
   ],
   "source": [
    "arr = np.array([[1,2,3], [4,5,6], [7,8,9]])\n",
    "\n",
    "# 행을 기준으로 슬라이스\n",
    "print(arr[ : 2])\n",
    "\n",
    "# 열을 기준으로 슬라이스\n",
    "print(arr[ : 2, : 2])\n",
    "\n",
    "print(arr[1, 0 : 2])"
   ]
  },
  {
   "cell_type": "code",
   "execution_count": 49,
   "id": "52cb301b-48a3-48bc-9164-f79eb23af4c1",
   "metadata": {},
   "outputs": [
    {
     "name": "stdout",
     "output_type": "stream",
     "text": [
      "20\n",
      "70\n",
      "[70 80 90]\n",
      "[20 50 80]\n",
      "[[ 10  20 300]\n",
      " [ 40  50  60]\n",
      " [ 70  80  90]]\n"
     ]
    }
   ],
   "source": [
    "arr = np.array([[10, 20, 30], [40, 50, 60], [70, 80, 90]])\n",
    "\n",
    "# 첫번째 행의 두번째 값을 꺼내서 출력하세요.\n",
    "print(arr[0][1])\n",
    "\n",
    "# 세번째 행의 첫번째 값을 꺼내서 출력하세요.\n",
    "print(arr[2][0])\n",
    "\n",
    "# 두번째 행 전체를 꺼내서 출력하세요.\n",
    "print(arr[2])\n",
    "\n",
    "# 두번째 열 전체를 꺼내서 출력하세요.\n",
    "print(arr[ : , 1])\n",
    "\n",
    "# 첫번째 행의 세번째 값을 300으로 바꾸세요\n",
    "arr[0][2] = 300\n",
    "print(arr)\n"
   ]
  },
  {
   "cell_type": "code",
   "execution_count": 50,
   "id": "be4a28d6-5e24-4057-856b-a526721bbdc5",
   "metadata": {},
   "outputs": [
    {
     "name": "stdout",
     "output_type": "stream",
     "text": [
      "7\n",
      "13\n",
      "[ 9 10 11 12]\n",
      "[ 4  8 12 16]\n",
      "[[  1   2   3 100]\n",
      " [  5   6   7   8]\n",
      " [  9  10  11  12]\n",
      " [ 13  14  15  16]]\n"
     ]
    }
   ],
   "source": [
    "arr = np.array([[1, 2, 3, 4], [5, 6, 7, 8], [9, 10, 11, 12], [13, 14, 15, 16]])\n",
    "\n",
    "# 두번째 행의 세번째 값을 꺼내서 출력하세요.\n",
    "print(arr[1][2])\n",
    "\n",
    "# 네번째 행의 첫번째 값을 꺼내서 출력하세요.\n",
    "print(arr[3][0])\n",
    "\n",
    "# 세번째 행 전체를 꺼내서 출력하세요.\n",
    "print(arr[2])\n",
    "\n",
    "# 네번째 열 전체를 꺼내서 출력하세요.\n",
    "print(arr[ : , 3])\n",
    "\n",
    "# 첫번째 행의 네번째 값을 100으로 바꾸세요.\n",
    "arr[0][3] = 100\n",
    "print(arr)"
   ]
  },
  {
   "cell_type": "code",
   "execution_count": 52,
   "id": "e4443fc0-254a-4dc6-a8e8-793370c9d4c8",
   "metadata": {},
   "outputs": [
    {
     "name": "stdout",
     "output_type": "stream",
     "text": [
      "[40]\n",
      "[[40 50 60]\n",
      " [70 80 90]]\n",
      "[[20 30]\n",
      " [50 60]\n",
      " [80 90]]\n"
     ]
    }
   ],
   "source": [
    "arr = np.array([[10, 20, 30], [40, 50, 60], [70, 80, 90]])\n",
    "\n",
    "# 첫번째 행의 앞 2개 숫자를 꺼내서 출력하세요.\n",
    "print(arr[1,  : 1])\n",
    "\n",
    "# 두번째 행부터 세번째 행까지 전체를 꺼내서 출력하세요\n",
    "print(arr[1 : 3])\n",
    "\n",
    "#모든 행에서 두번째와 세번째 열만 꺼내서 출력하세요\n",
    "print(arr[ : , 1 : 3])"
   ]
  },
  {
   "cell_type": "markdown",
   "id": "d9358809-7105-4c5c-b8ca-6cfa0988f758",
   "metadata": {},
   "source": [
    "불리언 인덱스  \n",
    "인덱스란? 데이터의 위치"
   ]
  },
  {
   "cell_type": "code",
   "execution_count": 60,
   "id": "964bcd34-4926-4b8c-bcf0-07de892f2129",
   "metadata": {},
   "outputs": [
    {
     "name": "stdout",
     "output_type": "stream",
     "text": [
      "[['수학의 정석' '7']\n",
      " ['한국사' '5']\n",
      " ['데미안' '12']]\n",
      "[['해리포터' '10']\n",
      " ['파이썬 입문' '5']]\n",
      "[['자바의 정석' '7']\n",
      " ['해리포터' '10']\n",
      " ['파이썬 입문' '5']\n",
      " ['한국사' '5']\n",
      " ['데미안' '12']]\n"
     ]
    }
   ],
   "source": [
    "students = np.array(['철수', '영희', '민수', '철수', '철수'])\n",
    "\n",
    "books = np.array([['수학의 정석', 7], ['해리포터', 10], ['파이썬 입문', 5], ['한국사', 5], ['데미안', 12]])\n",
    "\n",
    "print(books[students == '철수'])\n",
    "\n",
    "print(books[students != '철수'])\n",
    "\n",
    "books[books == '수학의 정석'] = '자바의 정석'\n",
    "\n",
    "print(books)"
   ]
  },
  {
   "cell_type": "code",
   "execution_count": 62,
   "id": "6f30e455-4b5b-4ab8-bbd4-fb4fe5221721",
   "metadata": {},
   "outputs": [
    {
     "name": "stdout",
     "output_type": "stream",
     "text": [
      "[40 50 60 70]\n",
      "[10 20 30 40 50 60 70]\n",
      "[ 10  20  30  40  50 999 999]\n"
     ]
    }
   ],
   "source": [
    "arr = np.array([10, 20, 30, 40, 50, 60, 70])\n",
    "\n",
    "# 배열에서 30보다 큰 값만 꺼내서 출력하세요.\n",
    "print(arr[arr > 30])\n",
    "\n",
    "# 배열에서 짝수 값만 꺼내서 출력하세요.\n",
    "print(arr[arr % 2 == 0])\n",
    "\n",
    "# 배열에서 50보다 큰 값을 모두 999로 바꾸세요\n",
    "arr[arr > 50] = 999\n",
    "print(arr)"
   ]
  },
  {
   "cell_type": "code",
   "execution_count": 68,
   "id": "a87f6b2f-fcaa-4e1c-8fdb-df0dc3d75dfb",
   "metadata": {},
   "outputs": [
    {
     "name": "stdout",
     "output_type": "stream",
     "text": [
      "[400]\n",
      "['철수' '맹구']\n",
      "[250 320 280 400 200]\n"
     ]
    }
   ],
   "source": [
    "employees = np.array(['짱구', '철수', '유리', '맹구', '훈이'])\n",
    "salaries = np.array([250, 320, 280, 400, 150])\n",
    "\n",
    "# 맹구의 급여를 조회하세요\n",
    "print(salaries[employees == '맹구'])\n",
    "\n",
    "# 급여가 300만원 이상인 직원들의 이름을 출력하세요\n",
    "print(employees[salaries >= 300])\n",
    "\n",
    "# 급여가 200만원 미만인 직원들의 급여를 모두 200으로 올리세요\n",
    "salaries[salaries < 200] = 200\n",
    "print(salaries)"
   ]
  },
  {
   "cell_type": "markdown",
   "id": "da1721e3-bd04-44cc-87f0-a55792edf786",
   "metadata": {},
   "source": [
    "## 3.2 배열의 모양 바꾸기"
   ]
  },
  {
   "cell_type": "code",
   "execution_count": 76,
   "id": "d92f7462-056a-414c-b698-854549ad84d2",
   "metadata": {},
   "outputs": [
    {
     "name": "stdout",
     "output_type": "stream",
     "text": [
      "[[ 1  2]\n",
      " [ 3  4]\n",
      " [ 5  6]\n",
      " [ 7  8]\n",
      " [ 9 10]\n",
      " [11 12]]\n"
     ]
    }
   ],
   "source": [
    "arr = np.arange(1, 13).reshape(6, 2)\n",
    "\n",
    "print(arr)"
   ]
  },
  {
   "cell_type": "code",
   "execution_count": 79,
   "id": "b996e4bb-c4fe-4a78-ba7c-abbb046db0cc",
   "metadata": {},
   "outputs": [
    {
     "name": "stdout",
     "output_type": "stream",
     "text": [
      "[[ 0  1  2  3]\n",
      " [ 4  5  6  7]\n",
      " [ 8  9 10 11]]\n",
      "[[ 1  2  3  4]\n",
      " [ 5  6  7  8]\n",
      " [ 9 10 11 12]\n",
      " [13 14 15 16]]\n",
      "[[ 1  2  3  4]\n",
      " [ 5  6  7  8]\n",
      " [ 9 10 11 12]\n",
      " [13 14 15 16]\n",
      " [17 18 19 20]]\n",
      "[[10 11 12 13]\n",
      " [14 15 16 17]\n",
      " [18 19 20 21]\n",
      " [22 23 24 25]]\n"
     ]
    }
   ],
   "source": [
    "# 0 부터 11까지의 숫자를 생성한 뒤, 3행 4열로 바꾸세요.\n",
    "arr = np.arange(0, 12).reshape(3, 4)\n",
    "print(arr)\n",
    "\n",
    "# 1 부터 16까지의 숫자를 생성한 뒤, 4행 4열로 바꾸세요.\n",
    "arr = np.arange(1, 17).reshape(4, 4)\n",
    "print(arr)\n",
    "\n",
    "\n",
    "# 1 부터 20까지의 숫자를 생성한 뒤, 5행 4열로 바꾸세요.\n",
    "arr = np.arange(1, 21).reshape(5, 4)\n",
    "print(arr)\n",
    "\n",
    "# 10 부터 25까지의 숫자를 생성한 뒤, 4행 4열로 바꾸세요.\n",
    "arr = np.arange(10, 26).reshape(4, 4)\n",
    "print(arr)\n"
   ]
  },
  {
   "cell_type": "markdown",
   "id": "ab30dc5d-7b5d-4098-9d59-3e799102f308",
   "metadata": {},
   "source": [
    "## 3.3 난수를 생성하는 방법  \n",
    "난수란? 랜덤값"
   ]
  },
  {
   "cell_type": "code",
   "execution_count": 88,
   "id": "25e08b20-a79b-467f-a222-38f3e2b35ab2",
   "metadata": {},
   "outputs": [
    {
     "name": "stdout",
     "output_type": "stream",
     "text": [
      "[ 1.40369943  1.50623561  0.45812708  0.05316935 -0.50841776  1.26251605\n",
      "  1.4367543   0.15154043 -0.02788875  0.32324424]\n",
      "[0.80684815 0.36850716 0.91573184 0.26106724 0.04445375 0.14291912\n",
      " 0.61329127 0.62791323 0.42289541 0.05268938]\n"
     ]
    }
   ],
   "source": [
    "arr = np.random.standard_normal(size=10)\n",
    "print(arr)\n",
    "\n",
    "arr = np.random.uniform(size=10)\n",
    "print(arr)\n"
   ]
  },
  {
   "cell_type": "code",
   "execution_count": 90,
   "id": "0bcc077d-7ded-42ab-85ca-575da6743539",
   "metadata": {},
   "outputs": [
    {
     "name": "stdout",
     "output_type": "stream",
     "text": [
      "[-0.80186864  0.22557029  0.4617983   0.3687386   0.35195314]\n",
      "[0.09768411 0.63113648 0.7102154  0.50511826 0.23131787]\n"
     ]
    }
   ],
   "source": [
    "# 표준정규분포에서 랜덤값 5개를 생성하세요\n",
    "arr = np.random.standard_normal(size = 5)\n",
    "print(arr)\n",
    "\n",
    "# 균일분포에서 랜덤값 5개를 생성하세요\n",
    "arr = np.random.uniform(size = 5)\n",
    "print(arr)\n"
   ]
  },
  {
   "cell_type": "markdown",
   "id": "b69be43a-9d9d-4f10-9db0-543fe543871e",
   "metadata": {},
   "source": [
    "## 3.4 유니버설 함수  \n",
    "반복문 없이 배열 전체에 계산을 해주는 함수"
   ]
  },
  {
   "cell_type": "code",
   "execution_count": 97,
   "id": "bca5caa4-2c9c-4dfd-a465-f18e6685dc18",
   "metadata": {},
   "outputs": [
    {
     "name": "stdout",
     "output_type": "stream",
     "text": [
      "[0 1 2 3 4 5 6 7 8 9]\n",
      "[3 7 5 6 7]\n",
      "[ 1  2 30]\n",
      "['x' 'x' 'x' 'o' 'o']\n"
     ]
    }
   ],
   "source": [
    "arr = np.arange(10)\n",
    "print(arr)\n",
    "\n",
    "np.add(arr, 3)\n",
    "\n",
    "a = np.array([1, 7, 3, 4, 5])\n",
    "b = np.array([3, 4, 5, 6, 7])\n",
    "print(np.maximum(a,b))\n",
    "\n",
    "a = np.array([1, 2, 3])\n",
    "b = np.array([10, 20, 30])\n",
    "\n",
    "cond = np.array([True, True, False])\n",
    "print(np.where(cond, a, b))\n",
    "\n",
    "arr = np.array([-2, -1, 0, 1, 2])\n",
    "print(np.where(arr > 0, 'o', 'x'))"
   ]
  },
  {
   "cell_type": "code",
   "execution_count": 102,
   "id": "707f5db6-a226-412e-aeda-09eae1ca05e9",
   "metadata": {},
   "outputs": [
    {
     "name": "stdout",
     "output_type": "stream",
     "text": [
      "['0' '100' '0' '100' '0']\n",
      "['-1' '1' '1' '1' '-1']\n",
      "[10  2 30  4 50]\n"
     ]
    }
   ],
   "source": [
    "# 배열 [5, 12, 7, 20, 3] 에서 10보다 크면 '100', 10 이하면 '0' 으로 바꾸세요.\n",
    "arr = np.array([5, 12, 7, 20, 3])\n",
    "print(np.where(arr > 10, '100', '0'))\n",
    "\n",
    "# 배열 [15, 8, 22, 6, 13] 에서 짝수면 1, 홀수면 -1로 바꾸세요.\n",
    "arr = np.array([15, 8, 22, 6, 13])\n",
    "print(np.where(arr % 2 == 0, '1', '-1'))\n",
    "\n",
    "# 배열 [10, 20, 30, 40, 50]과 [1, 2, 3, 4, 5]를 만들고\n",
    "# 조건배열 [True, False, True, False, True]를 사용해\n",
    "# 조건이 True 일때는 첫번째 배열값, False 일때는 두번째 배열값을 선택하세요.\n",
    "arr = np.array([True, False, True, False, True])\n",
    "arr1 = np.array([10, 20, 30, 40, 50])\n",
    "arr2 = np.array([1, 2, 3, 4, 5])\n",
    "print(np.where(arr, arr1, arr2))"
   ]
  },
  {
   "cell_type": "markdown",
   "id": "191e1b39-b5e4-407b-82f9-22c37dcb8e39",
   "metadata": {},
   "source": [
    "## 통계를 구할 때 자주 사용하는 함수들  \n",
    "(최대 최소 합계 평균)"
   ]
  },
  {
   "cell_type": "code",
   "execution_count": 103,
   "id": "2e127c65-4eef-40a2-89f8-fd0a2083402a",
   "metadata": {},
   "outputs": [
    {
     "name": "stdout",
     "output_type": "stream",
     "text": [
      "15\n",
      "3.0\n"
     ]
    }
   ],
   "source": [
    "lis = [1, 2, 3, 4, 5]\n",
    "\n",
    "# 리스트의 총합을 구하세요!\n",
    "print(sum(lis))\n",
    "\n",
    "# 리스트의 평균을 구하세요!\n",
    "print(sum(lis) / len(lis))"
   ]
  },
  {
   "cell_type": "code",
   "execution_count": 104,
   "id": "1e09ca71-e097-41b4-9d4e-3e3bff950ec6",
   "metadata": {},
   "outputs": [
    {
     "name": "stdout",
     "output_type": "stream",
     "text": [
      "15\n",
      "3.0\n",
      "5\n",
      "1\n"
     ]
    }
   ],
   "source": [
    "arr = np.array([1, 2, 3, 4, 5])\n",
    "print(np.sum(arr))\n",
    "print(np.mean(arr))\n",
    "print(np.max(arr))\n",
    "print(np.min(arr))"
   ]
  },
  {
   "cell_type": "code",
   "execution_count": 109,
   "id": "925f7b38-2d4c-4f75-9cd5-9db1deedf500",
   "metadata": {},
   "outputs": [
    {
     "name": "stdout",
     "output_type": "stream",
     "text": [
      "2000\n",
      "500.0\n",
      "800\n",
      "250\n"
     ]
    }
   ],
   "source": [
    "name_kcal = np.array([['김밥', 250], ['라면', 550], ['떡볶이', 400], ['치킨', 800]])\n",
    "foodname = np.array(['김밥', '라면', '떡볶이', '치킨'])\n",
    "foodkcal = np.array([250, 550, 400, 800])\n",
    "\n",
    "print(np.sum(name_kcal[ :, 1].astype(int)))\n",
    "print(np.mean(name_kcal[ :, 1].astype(int)))\n",
    "print(np.max(name_kcal[ :, 1].astype(int)))\n",
    "print(np.min(name_kcal[ :, 1].astype(int)))"
   ]
  },
  {
   "cell_type": "code",
   "execution_count": 110,
   "id": "1f68308e-8600-4057-bba6-fa621dffd1e4",
   "metadata": {},
   "outputs": [
    {
     "name": "stdout",
     "output_type": "stream",
     "text": [
      "280\n",
      "40.0\n",
      "60\n",
      "20\n"
     ]
    }
   ],
   "source": [
    "D_M = np.array([['월', 30], ['화', 45], ['수', 60], ['목', 20], ['금', 40], ['토', 50], ['일', 35]])\n",
    "\n",
    "print(np.sum(D_M[ :, 1].astype(int)))\n",
    "print(np.mean(D_M[ :, 1].astype(int)))\n",
    "print(np.max(D_M[ :, 1].astype(int)))\n",
    "print(np.min(D_M[ :, 1].astype(int)))"
   ]
  },
  {
   "cell_type": "markdown",
   "id": "2c132c4c-b048-47aa-959e-aac30cc61339",
   "metadata": {},
   "source": [
    "## 행렬 단위로 합계 구하기"
   ]
  },
  {
   "cell_type": "code",
   "execution_count": 119,
   "id": "39442a29-f6b8-4e6d-bbf2-60375ab77725",
   "metadata": {},
   "outputs": [
    {
     "name": "stdout",
     "output_type": "stream",
     "text": [
      "[[1 2 3]\n",
      " [4 5 6]\n",
      " [7 8 9]]\n",
      "45\n",
      "[12 15 18]\n",
      "[ 6 15 24]\n",
      "[[0 1 2]\n",
      " [3 4 5]\n",
      " [6 7 8]]\n",
      "[[ 0  1  2]\n",
      " [ 3  5  7]\n",
      " [ 9 12 15]]\n",
      "[[ 0  1  3]\n",
      " [ 3  7 12]\n",
      " [ 6 13 21]]\n"
     ]
    }
   ],
   "source": [
    "arr = np.arange(1, 10).reshape(3, 3)\n",
    "print(arr)\n",
    "\n",
    "print(arr.sum())\n",
    "\n",
    "print(arr.sum(axis = 0))\n",
    "print(arr.sum(axis = 1))\n",
    "\n",
    "#누적값 구하기\n",
    "arr = np.array([1, 2, 3, 4, 5])\n",
    "arr.cumsum()\n",
    "\n",
    "arr = np.array([[0, 1, 2], [3, 4, 5], [6, 7, 8]])\n",
    "print(arr)\n",
    "\n",
    "print(arr.cumsum(axis = 0))\n",
    "\n",
    "print(arr.cumsum(axis = 1))\n"
   ]
  },
  {
   "cell_type": "code",
   "execution_count": null,
   "id": "fa8091c3-0c6a-4802-91dd-592eba3f8713",
   "metadata": {},
   "outputs": [],
   "source": []
  }
 ],
 "metadata": {
  "kernelspec": {
   "display_name": "Python 3 (ipykernel)",
   "language": "python",
   "name": "python3"
  },
  "language_info": {
   "codemirror_mode": {
    "name": "ipython",
    "version": 3
   },
   "file_extension": ".py",
   "mimetype": "text/x-python",
   "name": "python",
   "nbconvert_exporter": "python",
   "pygments_lexer": "ipython3",
   "version": "3.10.18"
  }
 },
 "nbformat": 4,
 "nbformat_minor": 5
}
