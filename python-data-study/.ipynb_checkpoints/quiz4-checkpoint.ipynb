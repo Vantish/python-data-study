{
 "cells": [
  {
   "cell_type": "code",
   "execution_count": 1,
   "id": "89596f66-1fe2-4141-8935-c3f97ff5bb7f",
   "metadata": {},
   "outputs": [],
   "source": [
    "import numpy as np\n",
    "import pandas as pd"
   ]
  },
  {
   "cell_type": "code",
   "execution_count": 13,
   "id": "d54fa91c-7dd2-487b-9d73-d034c5787c67",
   "metadata": {},
   "outputs": [
    {
     "name": "stdout",
     "output_type": "stream",
     "text": [
      "0     5\n",
      "1    10\n",
      "2    15\n",
      "3    20\n",
      "dtype: int64 0    2\n",
      "1    4\n",
      "2    6\n",
      "3    8\n",
      "dtype: int64\n"
     ]
    }
   ],
   "source": [
    "temps1 = pd.Series([5, 10, 15, 20])\n",
    "temps2 = pd.Series([2, 4, 6, 8])\n",
    "\n",
    "print(temps1, temps2)"
   ]
  },
  {
   "cell_type": "code",
   "execution_count": 21,
   "id": "c0d4b467-a2b5-43d8-8019-0496f190cd03",
   "metadata": {},
   "outputs": [
    {
     "name": "stdout",
     "output_type": "stream",
     "text": [
      "국어    70\n",
      "영어    80\n",
      "수학    90\n",
      "dtype: int64 \n",
      "\n",
      "70 \n",
      "\n",
      "국어    70\n",
      "영어    80\n",
      "수학    75\n",
      "dtype: int64\n"
     ]
    }
   ],
   "source": [
    "temps3 = pd.Series([70, 80, 90], ['국어', '영어', '수학'])\n",
    "print(temps3, '\\n')\n",
    "print(temps3['국어'], '\\n')\n",
    "temps3['수학'] = 75\n",
    "print(temps3)"
   ]
  },
  {
   "cell_type": "code",
   "execution_count": 20,
   "id": "8d04a00d-022b-4b56-8aa3-4da5dce36f9a",
   "metadata": {},
   "outputs": [
    {
     "name": "stdout",
     "output_type": "stream",
     "text": [
      "봄     15\n",
      "여름    27\n",
      "가을    18\n",
      "dtype: int64 \n",
      "\n",
      "15 \n",
      "\n",
      "봄     15\n",
      "여름    27\n",
      "가을    20\n",
      "dtype: int64\n"
     ]
    }
   ],
   "source": [
    "temps4 = pd.Series([15, 27, 18], ['봄', '여름', '가을'])\n",
    "print(temps4, '\\n')\n",
    "print(temps4['봄'], '\\n')\n",
    "temps4['가을'] = 20\n",
    "print(temps4)"
   ]
  },
  {
   "cell_type": "code",
   "execution_count": 19,
   "id": "f7833412-d14a-4748-b66b-f53582395b1c",
   "metadata": {},
   "outputs": [
    {
     "name": "stdout",
     "output_type": "stream",
     "text": [
      "01-01    1000\n",
      "01-02    1200\n",
      "01-03    1300\n",
      "dtype: int64 \n",
      "\n",
      "1000 \n",
      "\n",
      "01-01    1000\n",
      "01-02    1250\n",
      "01-03    1300\n",
      "dtype: int64\n"
     ]
    }
   ],
   "source": [
    "temps5 = pd.Series([1000, 1200, 1300], ['01-01', '01-02', '01-03'])\n",
    "print(temps5, '\\n')\n",
    "print(temps5['01-01'], '\\n')\n",
    "temps5['01-02'] = 1250\n",
    "print(temps5)"
   ]
  },
  {
   "cell_type": "code",
   "execution_count": 18,
   "id": "84c96732-f62e-4075-abce-bd487fff87d5",
   "metadata": {},
   "outputs": [
    {
     "name": "stdout",
     "output_type": "stream",
     "text": [
      "월    300\n",
      "화    400\n",
      "수    500\n",
      "dtype: int64 \n",
      "\n",
      "400 \n",
      "\n",
      "월    300\n",
      "화    400\n",
      "수    550\n",
      "dtype: int64\n"
     ]
    }
   ],
   "source": [
    "temps6 = pd.Series([300, 400, 500], ['월', '화', '수'])\n",
    "print(temps6, '\\n')\n",
    "print(temps6['화'], '\\n')\n",
    "temps6['수'] = 550\n",
    "print(temps6)"
   ]
  },
  {
   "cell_type": "code",
   "execution_count": 24,
   "id": "dfc5343a-20bb-4aa7-aff3-9a41b0932aca",
   "metadata": {},
   "outputs": [
    {
     "name": "stdout",
     "output_type": "stream",
     "text": [
      "  name  math\n",
      "0   철수    85\n",
      "1   영희    90\n",
      "2   민수    78 \n",
      "\n",
      "  day  sales\n",
      "0   월   1000\n",
      "1   화   1200\n",
      "2   수    900\n"
     ]
    }
   ],
   "source": [
    "temp1 = {'name' : ['철수', '영희', '민수'], 'math' : [85, 90, 78]}\n",
    "tempd1 = pd.DataFrame(temp1)\n",
    "print(tempd1, '\\n')\n",
    "\n",
    "temp2 = {'day' : ['월', '화', '수'], 'sales' : [1000, 1200, 900]}\n",
    "tempd2 = pd.DataFrame(temp2)\n",
    "print(tempd2)"
   ]
  },
  {
   "cell_type": "code",
   "execution_count": 34,
   "id": "42c0a023-0135-4982-9f67-500d033ccaf0",
   "metadata": {},
   "outputs": [
    {
     "name": "stdout",
     "output_type": "stream",
     "text": [
      "    판매량  재고\n",
      "사과   30  50\n",
      "배    20  40 \n",
      "\n",
      "30 \n",
      "\n"
     ]
    },
    {
     "data": {
      "text/html": [
       "<div>\n",
       "<style scoped>\n",
       "    .dataframe tbody tr th:only-of-type {\n",
       "        vertical-align: middle;\n",
       "    }\n",
       "\n",
       "    .dataframe tbody tr th {\n",
       "        vertical-align: top;\n",
       "    }\n",
       "\n",
       "    .dataframe thead th {\n",
       "        text-align: right;\n",
       "    }\n",
       "</style>\n",
       "<table border=\"1\" class=\"dataframe\">\n",
       "  <thead>\n",
       "    <tr style=\"text-align: right;\">\n",
       "      <th></th>\n",
       "      <th>판매량</th>\n",
       "      <th>재고</th>\n",
       "      <th>가격</th>\n",
       "    </tr>\n",
       "  </thead>\n",
       "  <tbody>\n",
       "    <tr>\n",
       "      <th>사과</th>\n",
       "      <td>30</td>\n",
       "      <td>50</td>\n",
       "      <td>1000</td>\n",
       "    </tr>\n",
       "    <tr>\n",
       "      <th>배</th>\n",
       "      <td>20</td>\n",
       "      <td>40</td>\n",
       "      <td>1200</td>\n",
       "    </tr>\n",
       "  </tbody>\n",
       "</table>\n",
       "</div>"
      ],
      "text/plain": [
       "    판매량  재고    가격\n",
       "사과   30  50  1000\n",
       "배    20  40  1200"
      ]
     },
     "execution_count": 34,
     "metadata": {},
     "output_type": "execute_result"
    }
   ],
   "source": [
    "tempd2 = pd.DataFrame([[30, 50], [20, 40]], ['사과', '배'], ['판매량', '재고'])\n",
    "print(tempd2, '\\n')\n",
    "\n",
    "print(tempd2.loc['사과', '판매량'], '\\n')\n",
    "\n",
    "tempd2['가격'] = [1000, 1200]\n",
    "tempd2\n"
   ]
  },
  {
   "cell_type": "code",
   "execution_count": 37,
   "id": "75987ee8-fb05-4e23-ada0-864708cfea17",
   "metadata": {},
   "outputs": [
    {
     "name": "stdout",
     "output_type": "stream",
     "text": [
      "     인구    면적\n",
      "서울  950  1200\n",
      "부산  500   800 \n",
      "\n",
      "1200 \n",
      "\n"
     ]
    },
    {
     "data": {
      "text/html": [
       "<div>\n",
       "<style scoped>\n",
       "    .dataframe tbody tr th:only-of-type {\n",
       "        vertical-align: middle;\n",
       "    }\n",
       "\n",
       "    .dataframe tbody tr th {\n",
       "        vertical-align: top;\n",
       "    }\n",
       "\n",
       "    .dataframe thead th {\n",
       "        text-align: right;\n",
       "    }\n",
       "</style>\n",
       "<table border=\"1\" class=\"dataframe\">\n",
       "  <thead>\n",
       "    <tr style=\"text-align: right;\">\n",
       "      <th></th>\n",
       "      <th>인구</th>\n",
       "      <th>면적</th>\n",
       "      <th>특산물</th>\n",
       "    </tr>\n",
       "  </thead>\n",
       "  <tbody>\n",
       "    <tr>\n",
       "      <th>서울</th>\n",
       "      <td>950</td>\n",
       "      <td>1200</td>\n",
       "      <td>김치</td>\n",
       "    </tr>\n",
       "    <tr>\n",
       "      <th>부산</th>\n",
       "      <td>500</td>\n",
       "      <td>800</td>\n",
       "      <td>어묵</td>\n",
       "    </tr>\n",
       "  </tbody>\n",
       "</table>\n",
       "</div>"
      ],
      "text/plain": [
       "     인구    면적 특산물\n",
       "서울  950  1200  김치\n",
       "부산  500   800  어묵"
      ]
     },
     "execution_count": 37,
     "metadata": {},
     "output_type": "execute_result"
    }
   ],
   "source": [
    "temlis1 = [[950, 1200], [500, 800]]\n",
    "temrow1 = ['서울', '부산']\n",
    "temcol1 = ['인구', '면적']\n",
    "tempd3 = pd.DataFrame(temlis1, temrow1, temcol1)\n",
    "print(tempd3, '\\n')\n",
    "print(tempd3['면적']['서울'], '\\n')\n",
    "tempd3['특산물'] = ['김치', '어묵']\n",
    "tempd3"
   ]
  },
  {
   "cell_type": "code",
   "execution_count": 41,
   "id": "f64196f7-5ff8-4a25-945f-77f8a8aa9afd",
   "metadata": {},
   "outputs": [
    {
     "name": "stdout",
     "output_type": "stream",
     "text": [
      "       가격    제목\n",
      "책1  15000  홍길동전\n",
      "책2  20000  해리포터 \n",
      "\n",
      "20000 \n",
      "\n"
     ]
    },
    {
     "data": {
      "text/html": [
       "<div>\n",
       "<style scoped>\n",
       "    .dataframe tbody tr th:only-of-type {\n",
       "        vertical-align: middle;\n",
       "    }\n",
       "\n",
       "    .dataframe tbody tr th {\n",
       "        vertical-align: top;\n",
       "    }\n",
       "\n",
       "    .dataframe thead th {\n",
       "        text-align: right;\n",
       "    }\n",
       "</style>\n",
       "<table border=\"1\" class=\"dataframe\">\n",
       "  <thead>\n",
       "    <tr style=\"text-align: right;\">\n",
       "      <th></th>\n",
       "      <th>가격</th>\n",
       "      <th>저자</th>\n",
       "      <th>제목</th>\n",
       "    </tr>\n",
       "  </thead>\n",
       "  <tbody>\n",
       "    <tr>\n",
       "      <th>책1</th>\n",
       "      <td>15000</td>\n",
       "      <td>허균</td>\n",
       "      <td>홍길동전</td>\n",
       "    </tr>\n",
       "    <tr>\n",
       "      <th>책2</th>\n",
       "      <td>20000</td>\n",
       "      <td>J.K. 롤링</td>\n",
       "      <td>해리포터</td>\n",
       "    </tr>\n",
       "  </tbody>\n",
       "</table>\n",
       "</div>"
      ],
      "text/plain": [
       "       가격       저자    제목\n",
       "책1  15000       허균  홍길동전\n",
       "책2  20000  J.K. 롤링  해리포터"
      ]
     },
     "execution_count": 41,
     "metadata": {},
     "output_type": "execute_result"
    }
   ],
   "source": [
    "temlis2 = [[15000, '홍길동전'], [20000, '해리포터']]\n",
    "temrow2 = ['책1', '책2']\n",
    "temcol2 = ['가격', '제목']\n",
    "tempd4 = pd.DataFrame(temlis2, temrow2, temcol2)\n",
    "print(tempd4, '\\n')\n",
    "print(tempd4['가격']['책2'], '\\n')\n",
    "tempd4.insert(1, '저자', ['허균', 'J.K. 롤링'])\n",
    "tempd4"
   ]
  },
  {
   "cell_type": "code",
   "execution_count": 42,
   "id": "30ecae79-efda-4e16-b2c4-e47419c81b79",
   "metadata": {},
   "outputs": [
    {
     "name": "stdout",
     "output_type": "stream",
     "text": [
      "        평점    관객수\n",
      "기생충    9.0  14000\n",
      "인터스텔라  8.2  95000 \n",
      "\n",
      "9.0 \n",
      "\n"
     ]
    },
    {
     "data": {
      "text/html": [
       "<div>\n",
       "<style scoped>\n",
       "    .dataframe tbody tr th:only-of-type {\n",
       "        vertical-align: middle;\n",
       "    }\n",
       "\n",
       "    .dataframe tbody tr th {\n",
       "        vertical-align: top;\n",
       "    }\n",
       "\n",
       "    .dataframe thead th {\n",
       "        text-align: right;\n",
       "    }\n",
       "</style>\n",
       "<table border=\"1\" class=\"dataframe\">\n",
       "  <thead>\n",
       "    <tr style=\"text-align: right;\">\n",
       "      <th></th>\n",
       "      <th>평점</th>\n",
       "    </tr>\n",
       "  </thead>\n",
       "  <tbody>\n",
       "    <tr>\n",
       "      <th>기생충</th>\n",
       "      <td>9.0</td>\n",
       "    </tr>\n",
       "    <tr>\n",
       "      <th>인터스텔라</th>\n",
       "      <td>8.2</td>\n",
       "    </tr>\n",
       "  </tbody>\n",
       "</table>\n",
       "</div>"
      ],
      "text/plain": [
       "        평점\n",
       "기생충    9.0\n",
       "인터스텔라  8.2"
      ]
     },
     "execution_count": 42,
     "metadata": {},
     "output_type": "execute_result"
    }
   ],
   "source": [
    "temlis3 = [[9.0, 14000], [8.2, 95000]]\n",
    "temrow3 = ['기생충', '인터스텔라']\n",
    "temcol3 = ['평점', '관객수']\n",
    "tempd5 = pd.DataFrame(temlis3, temrow3, temcol3)\n",
    "print(tempd5, '\\n')\n",
    "print(tempd5['평점']['기생충'], '\\n')\n",
    "tempd5 = tempd5.drop('관객수', axis = 1)\n",
    "tempd5"
   ]
  },
  {
   "cell_type": "code",
   "execution_count": 43,
   "id": "94969188-d070-4c44-bc20-20b08459d14a",
   "metadata": {},
   "outputs": [
    {
     "name": "stdout",
     "output_type": "stream",
     "text": [
      "총점 : 330\n",
      "평균 : 82.5\n",
      "최고 점수 : 90\n",
      "최저 점수 : 75\n"
     ]
    }
   ],
   "source": [
    "temps7 = pd.Series([80,90,75,85], ['국어', '영어', '수학', '과학'])\n",
    "print('총점 :', temps7.sum())\n",
    "print('평균 :', temps7.mean())\n",
    "print('최고 점수 :', temps7.max())\n",
    "print('최저 점수 :', temps7.min())"
   ]
  },
  {
   "cell_type": "code",
   "execution_count": 44,
   "id": "b5c8ce31-04ea-4359-b7a6-df3e8ed2c204",
   "metadata": {},
   "outputs": [
    {
     "name": "stdout",
     "output_type": "stream",
     "text": [
      "월    2\n",
      "화    5\n",
      "목    0\n",
      "금    7\n",
      "일    4\n",
      "dtype: int64\n"
     ]
    }
   ],
   "source": [
    "temps8 = pd.Series([2, 5, -1, 0, 7, -3, 4], ['월', '화', '수', '목', '금', '토', '일'])\n",
    "print(temps8[temps8 >= 0])"
   ]
  },
  {
   "cell_type": "code",
   "execution_count": 46,
   "id": "12694341-d4d6-4ff1-90cb-89182b668caa",
   "metadata": {},
   "outputs": [
    {
     "name": "stdout",
     "output_type": "stream",
     "text": [
      "         관객수   평점\n",
      "기생충    12000  9.0\n",
      "인터스텔라   8000  8.5\n",
      "아바타    15000  9.3 \n",
      "\n",
      "         관객수   평점\n",
      "기생충    13000  9.0\n",
      "인터스텔라   9000  8.5\n",
      "아바타    16000  9.3 \n",
      "\n",
      "       관객수   평점\n",
      "기생충  13000  9.0\n",
      "아바타  16000  9.3\n"
     ]
    }
   ],
   "source": [
    "temlis4 = [[12000, 9.0], [8000, 8.5], [15000, 9.3]]\n",
    "temrow4 = ['기생충', '인터스텔라', '아바타']\n",
    "temcol4 = ['관객수', '평점']\n",
    "tempd6 = pd.DataFrame(temlis4, temrow4, temcol4)\n",
    "print(tempd6, '\\n')\n",
    "\n",
    "tempd6['관객수'] += 1000\n",
    "print(tempd6, '\\n')\n",
    "\n",
    "print(tempd6[tempd6['평점'] >= 9.0])"
   ]
  },
  {
   "cell_type": "code",
   "execution_count": 49,
   "id": "e6c83a3c-49a7-4665-bac1-010b1765ac8b",
   "metadata": {},
   "outputs": [
    {
     "name": "stdout",
     "output_type": "stream",
     "text": [
      "    1월 매출  2월 매출\n",
      "치마  25000  30000\n",
      "바지  40000  15000 \n",
      "\n",
      "    1월 매출  2월 매출     합계\n",
      "치마  25000  30000  55000\n",
      "바지  40000  15000  55000 \n",
      "\n",
      "    1월 매출  2월 매출     합계  합계(만원)\n",
      "치마  25000  30000  55000    55.0\n",
      "바지  40000  15000  55000    55.0\n"
     ]
    }
   ],
   "source": [
    "temlis5 = [[25000, 30000], [40000, 15000]]\n",
    "temrow5 = ['치마', '바지']\n",
    "temcol5 = ['1월 매출', '2월 매출']\n",
    "tempd7 = pd.DataFrame(temlis5, temrow5, temcol5)\n",
    "print(tempd7, '\\n')\n",
    "\n",
    "tempd7['합계'] = tempd7['1월 매출'] + tempd7['2월 매출']\n",
    "print(tempd7, '\\n')\n",
    "\n",
    "tempd7['합계(만원)'] = tempd7['합계'] / 1000\n",
    "print(tempd7)\n"
   ]
  },
  {
   "cell_type": "code",
   "execution_count": 60,
   "id": "cd21047a-f705-494a-ba06-4eb48165c8f3",
   "metadata": {},
   "outputs": [
    {
     "name": "stdout",
     "output_type": "stream",
     "text": [
      "     봄  여름  겨울\n",
      "서울  20  25  15\n",
      "부산  18  22  19\n",
      "대구  25  27  23 \n",
      "\n",
      "     봄    여름  겨울\n",
      "서울  20   NaN  15\n",
      "부산  18  22.0  19\n",
      "대구  25  27.0  23 \n",
      "\n",
      "     봄    여름  겨울\n",
      "부산  18  22.0  19\n",
      "대구  25  27.0  23 \n",
      "\n",
      "       봄    여름  겨울\n",
      "부산   NaN  22.0  19\n",
      "대구  25.0  27.0  23 \n",
      "\n",
      "       봄    여름  겨울\n",
      "부산   NaN  22.0  19\n",
      "대구  25.0  27.0  23 \n",
      "\n"
     ]
    }
   ],
   "source": [
    "temlis6 = [[20, 25, 15], [18, 22, 19], [25, 27, 23]]\n",
    "temrow6 = ['서울', '부산', '대구']\n",
    "temcol6 = ['봄', '여름', '겨울']\n",
    "tempd8 = pd.DataFrame(temlis6, temrow6, temcol6)\n",
    "print(tempd8, '\\n')\n",
    "\n",
    "tempd8.loc['서울', '여름'] = np.nan\n",
    "print(tempd8, '\\n')\n",
    "\n",
    "print(tempd8.dropna(axis = 0), '\\n')\n",
    "\n",
    "tempd8.loc['부산', '봄'] = np.nan\n",
    "print(tempd8, '\\n')\n",
    "\n",
    "tempd8 = tempd8.fillna(value = 0)\n",
    "print(tempd8, '\\n')\n",
    "\n"
   ]
  },
  {
   "cell_type": "code",
   "execution_count": 67,
   "id": "7a1915e5-0e39-43a3-92ad-441989d9a6f4",
   "metadata": {},
   "outputs": [
    {
     "name": "stdout",
     "output_type": "stream",
     "text": [
      "    1반  2반  3반\n",
      "국어  80  75  90\n",
      "영어  85  88  82\n",
      "수학  70  65  78 \n",
      "\n",
      "    1반    2반  3반\n",
      "국어  80  75.0  90\n",
      "영어  85   NaN  82\n",
      "수학  70  65.0  78 \n",
      "\n",
      "    1반    2반  3반\n",
      "국어  80  75.0  90\n",
      "수학  70  65.0  78 \n",
      "\n",
      "    1반     2반     3반\n",
      "국어  80   75.0   90.0\n",
      "영어  85  100.0   82.0\n",
      "수학  70   65.0  100.0\n"
     ]
    }
   ],
   "source": [
    "temlis7 = [[80, 75, 90], [85, 88, 82], [70, 65, 78]]\n",
    "temrow7 = ['국어', '영어', '수학']\n",
    "temcol7 = ['1반', '2반', '3반']\n",
    "tempd9 = pd.DataFrame(temlis7, temrow7, temcol7)\n",
    "print(tempd9, '\\n')\n",
    "\n",
    "tempd9.loc['영어', '2반'] = np.nan\n",
    "print(tempd9, '\\n')\n",
    "\n",
    "print(tempd9.dropna(axis = 0), '\\n')\n",
    "\n",
    "tempd9.loc['수학', '3반'] = np.nan\n",
    "\n",
    "tempd9 = tempd9.fillna(100)\n",
    "print(tempd9)\n"
   ]
  },
  {
   "cell_type": "code",
   "execution_count": null,
   "id": "c19c174f-20e3-4bbd-9dfb-a0bdce88cd8a",
   "metadata": {},
   "outputs": [],
   "source": []
  }
 ],
 "metadata": {
  "kernelspec": {
   "display_name": "Python 3 (ipykernel)",
   "language": "python",
   "name": "python3"
  },
  "language_info": {
   "codemirror_mode": {
    "name": "ipython",
    "version": 3
   },
   "file_extension": ".py",
   "mimetype": "text/x-python",
   "name": "python",
   "nbconvert_exporter": "python",
   "pygments_lexer": "ipython3",
   "version": "3.10.18"
  }
 },
 "nbformat": 4,
 "nbformat_minor": 5
}
