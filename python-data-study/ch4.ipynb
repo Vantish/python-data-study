{
 "cells": [
  {
   "cell_type": "markdown",
   "id": "588a5bd9-f229-491a-876a-010f5bd3edba",
   "metadata": {},
   "source": [
    "## 판다스 (pandas)  \n",
    "판다스는 데이터를 관리하기 위한 모듈로 시리즈와 데이터 프레임을 제공해주는 모듈이다."
   ]
  },
  {
   "cell_type": "code",
   "execution_count": 1,
   "id": "e9a8a943-b73c-42d5-8ae4-68dcc4d13363",
   "metadata": {},
   "outputs": [],
   "source": [
    "import numpy as np\n",
    "import pandas as pd"
   ]
  },
  {
   "cell_type": "markdown",
   "id": "3aa55541-45d9-45b3-b94c-f9d65e956af2",
   "metadata": {},
   "source": [
    "### 4.1 시리즈 (series)  \n",
    "데이터를 한줄로 담는 자료구조이다.  \n",
    "리스트와 다른 점은 데이터에 이름을 붙일 수 있다."
   ]
  },
  {
   "cell_type": "code",
   "execution_count": 7,
   "id": "1f1f878c-d806-421f-9635-6ea127602be0",
   "metadata": {},
   "outputs": [
    {
     "name": "stdout",
     "output_type": "stream",
     "text": [
      "0    1\n",
      "1    2\n",
      "2    3\n",
      "3    4\n",
      "dtype: int64\n",
      "RangeIndex(start=0, stop=4, step=1)\n"
     ]
    }
   ],
   "source": [
    "tems = pd.Series([1, 2, 3, 4])\n",
    "print(tems)\n",
    "print(tems.index)"
   ]
  },
  {
   "cell_type": "markdown",
   "id": "51bb34da-2f6d-4a4b-bbe7-ea42cc3c28ca",
   "metadata": {},
   "source": [
    "값을 가진 배열과 인덱스의 명칭을 순서대로 넣어줌으로써 인덱스에 명칭을 넣을 수 있다."
   ]
  },
  {
   "cell_type": "code",
   "execution_count": 15,
   "id": "f01a87a2-a7b5-4157-a9f9-4c35b101e257",
   "metadata": {},
   "outputs": [
    {
     "name": "stdout",
     "output_type": "stream",
     "text": [
      "a    1\n",
      "b    2\n",
      "c    3\n",
      "dtype: int64 \n",
      "\n",
      "Index(['a', 'b', 'c'], dtype='object')\n"
     ]
    }
   ],
   "source": [
    "tems = pd.Series([1, 2, 3], ['a', 'b', 'c'])\n",
    "print(tems, '\\n')\n",
    "print(tems.index)"
   ]
  },
  {
   "cell_type": "markdown",
   "id": "23117f9a-7809-4715-a0fd-145a67eabace",
   "metadata": {},
   "source": [
    "시리즈에서 값을 가져올 때는 인덱스에 숫자를 넣은것처럼 내가 설정한 인덱스 문자열을 넣으면 된다.  \n",
    "예) print(tems['a'])  \n",
    "또한 loc 함수나(인덱스 이름으로 데이터를 찾음) iloc 함수(인덱스 위치로 데이터를 찾음)를 써서도 찾을 수 있다."
   ]
  },
  {
   "cell_type": "code",
   "execution_count": 13,
   "id": "ec095053-6dce-4fd5-ae5f-bd2d65a86df9",
   "metadata": {},
   "outputs": [
    {
     "name": "stdout",
     "output_type": "stream",
     "text": [
      "a    1\n",
      "b    2\n",
      "c    3\n",
      "dtype: int64\n",
      "1\n",
      "1\n",
      "1\n"
     ]
    }
   ],
   "source": [
    "print(tems)\n",
    "print(tems.loc['a'])\n",
    "print(tems.iloc[0])\n",
    "print(tems['a'])"
   ]
  },
  {
   "cell_type": "markdown",
   "id": "4275d4ab-ba96-4f43-ae14-7182e3c891f1",
   "metadata": {},
   "source": [
    "시리즈 값 수정하기"
   ]
  },
  {
   "cell_type": "code",
   "execution_count": 19,
   "id": "ac938e9b-22a7-40a0-92d4-827292a2ceb0",
   "metadata": {},
   "outputs": [
    {
     "name": "stdout",
     "output_type": "stream",
     "text": [
      "a    1\n",
      "b    2\n",
      "c    3\n",
      "dtype: int64 \n",
      "\n",
      "a    4\n",
      "b    5\n",
      "c    6\n",
      "dtype: int64\n"
     ]
    }
   ],
   "source": [
    "tems = pd.Series([1, 2, 3], ['a', 'b', 'c'])\n",
    "print(tems, '\\n')\n",
    "tems['a'] = 4\n",
    "tems.loc['b'] = 5\n",
    "tems.iloc[2] = 6\n",
    "print(tems)"
   ]
  },
  {
   "cell_type": "markdown",
   "id": "60e3ca48-d82e-4bb5-9af0-2b1a3f66f2f0",
   "metadata": {},
   "source": [
    "### 4.2 데이터프레임 (DataFrame)  \n",
    "표 형식의 2차원 데이터를 담기 위한 자료 구조"
   ]
  },
  {
   "cell_type": "code",
   "execution_count": 23,
   "id": "0d459710-7f3d-451c-a569-714e40013acb",
   "metadata": {},
   "outputs": [
    {
     "name": "stdout",
     "output_type": "stream",
     "text": [
      "  city  cloud\n",
      "0   서울    990\n",
      "1   인천    240\n"
     ]
    }
   ],
   "source": [
    "temdic = {'city' : ['서울' , '인천'], 'cloud' : [990, 240]}\n",
    "temd = pd.DataFrame(temdic)\n",
    "print(temd)"
   ]
  },
  {
   "cell_type": "markdown",
   "id": "958e380a-70ef-45f8-96d0-4278122e9bab",
   "metadata": {},
   "source": [
    "데이터 프레임 생성 2"
   ]
  },
  {
   "cell_type": "code",
   "execution_count": 33,
   "id": "f2cc74a7-c8d9-42fe-ab68-5d76d0ab382e",
   "metadata": {},
   "outputs": [
    {
     "name": "stdout",
     "output_type": "stream",
     "text": [
      "[[ 60  70  80]\n",
      " [ 70  80  90]\n",
      " [ 80  90 100]]\n",
      "    0   1    2\n",
      "0  60  70   80\n",
      "1  70  80   90\n",
      "2  80  90  100\n",
      "Index(['둘리', '또치', '도우너'], dtype='object')\n",
      "Index(['국어', '영어', '수학'], dtype='object')\n"
     ]
    },
    {
     "data": {
      "text/html": [
       "<div>\n",
       "<style scoped>\n",
       "    .dataframe tbody tr th:only-of-type {\n",
       "        vertical-align: middle;\n",
       "    }\n",
       "\n",
       "    .dataframe tbody tr th {\n",
       "        vertical-align: top;\n",
       "    }\n",
       "\n",
       "    .dataframe thead th {\n",
       "        text-align: right;\n",
       "    }\n",
       "</style>\n",
       "<table border=\"1\" class=\"dataframe\">\n",
       "  <thead>\n",
       "    <tr style=\"text-align: right;\">\n",
       "      <th></th>\n",
       "      <th>국어</th>\n",
       "      <th>영어</th>\n",
       "      <th>수학</th>\n",
       "    </tr>\n",
       "  </thead>\n",
       "  <tbody>\n",
       "    <tr>\n",
       "      <th>둘리</th>\n",
       "      <td>60</td>\n",
       "      <td>70</td>\n",
       "      <td>80</td>\n",
       "    </tr>\n",
       "    <tr>\n",
       "      <th>또치</th>\n",
       "      <td>70</td>\n",
       "      <td>80</td>\n",
       "      <td>90</td>\n",
       "    </tr>\n",
       "    <tr>\n",
       "      <th>도우너</th>\n",
       "      <td>80</td>\n",
       "      <td>90</td>\n",
       "      <td>100</td>\n",
       "    </tr>\n",
       "  </tbody>\n",
       "</table>\n",
       "</div>"
      ],
      "text/plain": [
       "     국어  영어   수학\n",
       "둘리   60  70   80\n",
       "또치   70  80   90\n",
       "도우너  80  90  100"
      ]
     },
     "execution_count": 33,
     "metadata": {},
     "output_type": "execute_result"
    }
   ],
   "source": [
    "# 넘파이의 다차원 배열을 사용하여 2차원 배열 생성\n",
    "temarr = np.array([[60, 70, 80], [70, 80, 90], [80, 90, 100]])\n",
    "print(temarr)\n",
    "temd = pd.DataFrame(temarr)\n",
    "print(temd)\n",
    "temd = pd.DataFrame(temarr, ['둘리', '또치', '도우너'], ['국어', '영어', '수학'])\n",
    "print(temd.index)\n",
    "print(temd.columns)\n",
    "temd"
   ]
  },
  {
   "cell_type": "markdown",
   "id": "08d64d42-1eb2-404f-8830-84f33687435c",
   "metadata": {},
   "source": [
    "데이터 프레임에서 데이터 꺼내기  \n",
    "loc : 행열 이름으로 데이터를 꺼낸다  \n",
    "iloc : 행열 위치로 데이터를 꺼낸다  \n",
    "[] : 행열 이름으로 데이터를 꺼낸다  "
   ]
  },
  {
   "cell_type": "code",
   "execution_count": 41,
   "id": "4d984b5e-95d1-463d-aa20-b4f208b8bf4c",
   "metadata": {},
   "outputs": [
    {
     "name": "stdout",
     "output_type": "stream",
     "text": [
      "60\n",
      "60\n",
      "60\n"
     ]
    }
   ],
   "source": [
    "print(temd.loc['둘리', '국어'])\n",
    "print(temd.iloc[0, 0])\n",
    "print(temd['국어']['둘리'])"
   ]
  },
  {
   "cell_type": "markdown",
   "id": "23e2c9cf-0f17-41a9-8439-6afcbce5093d",
   "metadata": {},
   "source": [
    "데이터 프레임에 새로운 열 추가"
   ]
  },
  {
   "cell_type": "code",
   "execution_count": 54,
   "id": "a9b0d67b-ebec-4984-8db5-698ebba0fb8e",
   "metadata": {},
   "outputs": [
    {
     "data": {
      "text/html": [
       "<div>\n",
       "<style scoped>\n",
       "    .dataframe tbody tr th:only-of-type {\n",
       "        vertical-align: middle;\n",
       "    }\n",
       "\n",
       "    .dataframe tbody tr th {\n",
       "        vertical-align: top;\n",
       "    }\n",
       "\n",
       "    .dataframe thead th {\n",
       "        text-align: right;\n",
       "    }\n",
       "</style>\n",
       "<table border=\"1\" class=\"dataframe\">\n",
       "  <thead>\n",
       "    <tr style=\"text-align: right;\">\n",
       "      <th></th>\n",
       "      <th>국어</th>\n",
       "      <th>영어</th>\n",
       "      <th>사회</th>\n",
       "      <th>수학</th>\n",
       "      <th>과학</th>\n",
       "    </tr>\n",
       "  </thead>\n",
       "  <tbody>\n",
       "    <tr>\n",
       "      <th>둘리</th>\n",
       "      <td>60.0</td>\n",
       "      <td>70.0</td>\n",
       "      <td>60</td>\n",
       "      <td>80.0</td>\n",
       "      <td>60.0</td>\n",
       "    </tr>\n",
       "    <tr>\n",
       "      <th>또치</th>\n",
       "      <td>70.0</td>\n",
       "      <td>80.0</td>\n",
       "      <td>20</td>\n",
       "      <td>90.0</td>\n",
       "      <td>70.0</td>\n",
       "    </tr>\n",
       "    <tr>\n",
       "      <th>도우너</th>\n",
       "      <td>80.0</td>\n",
       "      <td>90.0</td>\n",
       "      <td>70</td>\n",
       "      <td>100.0</td>\n",
       "      <td>80.0</td>\n",
       "    </tr>\n",
       "    <tr>\n",
       "      <th>타조</th>\n",
       "      <td>30.0</td>\n",
       "      <td>60.0</td>\n",
       "      <td>40</td>\n",
       "      <td>90.0</td>\n",
       "      <td>100.0</td>\n",
       "    </tr>\n",
       "  </tbody>\n",
       "</table>\n",
       "</div>"
      ],
      "text/plain": [
       "       국어    영어  사회     수학     과학\n",
       "둘리   60.0  70.0  60   80.0   60.0\n",
       "또치   70.0  80.0  20   90.0   70.0\n",
       "도우너  80.0  90.0  70  100.0   80.0\n",
       "타조   30.0  60.0  40   90.0  100.0"
      ]
     },
     "execution_count": 54,
     "metadata": {},
     "output_type": "execute_result"
    }
   ],
   "source": [
    "# temd['과학'] = [60, 70, 80]\n",
    "# temd.loc['타조', :] = [30, 60, 90, 100]\n",
    "# temd.insert(2, '사회', [60, 20, 70, 40]\n",
    "temd"
   ]
  },
  {
   "cell_type": "markdown",
   "id": "2baf7f0b-0026-4859-8339-4965ce3e8900",
   "metadata": {},
   "source": [
    "데이터의 삭제"
   ]
  },
  {
   "cell_type": "code",
   "execution_count": 58,
   "id": "e21409c6-3725-467a-8506-048b88f92cd1",
   "metadata": {},
   "outputs": [
    {
     "data": {
      "text/html": [
       "<div>\n",
       "<style scoped>\n",
       "    .dataframe tbody tr th:only-of-type {\n",
       "        vertical-align: middle;\n",
       "    }\n",
       "\n",
       "    .dataframe tbody tr th {\n",
       "        vertical-align: top;\n",
       "    }\n",
       "\n",
       "    .dataframe thead th {\n",
       "        text-align: right;\n",
       "    }\n",
       "</style>\n",
       "<table border=\"1\" class=\"dataframe\">\n",
       "  <thead>\n",
       "    <tr style=\"text-align: right;\">\n",
       "      <th></th>\n",
       "      <th>국어</th>\n",
       "      <th>영어</th>\n",
       "      <th>사회</th>\n",
       "      <th>과학</th>\n",
       "    </tr>\n",
       "  </thead>\n",
       "  <tbody>\n",
       "    <tr>\n",
       "      <th>둘리</th>\n",
       "      <td>60.0</td>\n",
       "      <td>70.0</td>\n",
       "      <td>60</td>\n",
       "      <td>60.0</td>\n",
       "    </tr>\n",
       "    <tr>\n",
       "      <th>또치</th>\n",
       "      <td>70.0</td>\n",
       "      <td>80.0</td>\n",
       "      <td>20</td>\n",
       "      <td>70.0</td>\n",
       "    </tr>\n",
       "    <tr>\n",
       "      <th>도우너</th>\n",
       "      <td>80.0</td>\n",
       "      <td>90.0</td>\n",
       "      <td>70</td>\n",
       "      <td>80.0</td>\n",
       "    </tr>\n",
       "    <tr>\n",
       "      <th>타조</th>\n",
       "      <td>30.0</td>\n",
       "      <td>60.0</td>\n",
       "      <td>40</td>\n",
       "      <td>100.0</td>\n",
       "    </tr>\n",
       "  </tbody>\n",
       "</table>\n",
       "</div>"
      ],
      "text/plain": [
       "       국어    영어  사회     과학\n",
       "둘리   60.0  70.0  60   60.0\n",
       "또치   70.0  80.0  20   70.0\n",
       "도우너  80.0  90.0  70   80.0\n",
       "타조   30.0  60.0  40  100.0"
      ]
     },
     "execution_count": 58,
     "metadata": {},
     "output_type": "execute_result"
    }
   ],
   "source": [
    "# del temd['과학']\n",
    "\n",
    "#drop(행 또는 열의 이름, 방향)\n",
    "result = temd.drop('둘리', axis = 0)\n",
    "result = temd.drop('수학', axis = 1)\n",
    "result"
   ]
  },
  {
   "cell_type": "code",
   "execution_count": 60,
   "id": "0c783c62-4a54-4aad-a92e-4c0de01b5db9",
   "metadata": {},
   "outputs": [
    {
     "data": {
      "text/html": [
       "<div>\n",
       "<style scoped>\n",
       "    .dataframe tbody tr th:only-of-type {\n",
       "        vertical-align: middle;\n",
       "    }\n",
       "\n",
       "    .dataframe tbody tr th {\n",
       "        vertical-align: top;\n",
       "    }\n",
       "\n",
       "    .dataframe thead th {\n",
       "        text-align: right;\n",
       "    }\n",
       "</style>\n",
       "<table border=\"1\" class=\"dataframe\">\n",
       "  <thead>\n",
       "    <tr style=\"text-align: right;\">\n",
       "      <th></th>\n",
       "      <th>국어</th>\n",
       "      <th>영어</th>\n",
       "      <th>사회</th>\n",
       "      <th>수학</th>\n",
       "      <th>과학</th>\n",
       "    </tr>\n",
       "  </thead>\n",
       "  <tbody>\n",
       "    <tr>\n",
       "      <th>둘리</th>\n",
       "      <td>60.0</td>\n",
       "      <td>70.0</td>\n",
       "      <td>60</td>\n",
       "      <td>80.0</td>\n",
       "      <td>60.0</td>\n",
       "    </tr>\n",
       "    <tr>\n",
       "      <th>또치</th>\n",
       "      <td>70.0</td>\n",
       "      <td>80.0</td>\n",
       "      <td>20</td>\n",
       "      <td>90.0</td>\n",
       "      <td>70.0</td>\n",
       "    </tr>\n",
       "    <tr>\n",
       "      <th>도우너</th>\n",
       "      <td>80.0</td>\n",
       "      <td>90.0</td>\n",
       "      <td>70</td>\n",
       "      <td>100.0</td>\n",
       "      <td>80.0</td>\n",
       "    </tr>\n",
       "    <tr>\n",
       "      <th>타조</th>\n",
       "      <td>30.0</td>\n",
       "      <td>60.0</td>\n",
       "      <td>40</td>\n",
       "      <td>90.0</td>\n",
       "      <td>100.0</td>\n",
       "    </tr>\n",
       "  </tbody>\n",
       "</table>\n",
       "</div>"
      ],
      "text/plain": [
       "       국어    영어  사회     수학     과학\n",
       "둘리   60.0  70.0  60   80.0   60.0\n",
       "또치   70.0  80.0  20   90.0   70.0\n",
       "도우너  80.0  90.0  70  100.0   80.0\n",
       "타조   30.0  60.0  40   90.0  100.0"
      ]
     },
     "execution_count": 60,
     "metadata": {},
     "output_type": "execute_result"
    }
   ],
   "source": [
    "temd"
   ]
  },
  {
   "cell_type": "code",
   "execution_count": 62,
   "id": "36aea7bd-a36a-42bd-b56a-17bd8f5f0199",
   "metadata": {},
   "outputs": [
    {
     "data": {
      "text/html": [
       "<div>\n",
       "<style scoped>\n",
       "    .dataframe tbody tr th:only-of-type {\n",
       "        vertical-align: middle;\n",
       "    }\n",
       "\n",
       "    .dataframe tbody tr th {\n",
       "        vertical-align: top;\n",
       "    }\n",
       "\n",
       "    .dataframe thead th {\n",
       "        text-align: right;\n",
       "    }\n",
       "</style>\n",
       "<table border=\"1\" class=\"dataframe\">\n",
       "  <thead>\n",
       "    <tr style=\"text-align: right;\">\n",
       "      <th></th>\n",
       "      <th>국어</th>\n",
       "      <th>영어</th>\n",
       "      <th>사회</th>\n",
       "      <th>수학</th>\n",
       "      <th>과학</th>\n",
       "    </tr>\n",
       "  </thead>\n",
       "  <tbody>\n",
       "    <tr>\n",
       "      <th>둘리</th>\n",
       "      <td>60.0</td>\n",
       "      <td>70.0</td>\n",
       "      <td>60</td>\n",
       "      <td>80.0</td>\n",
       "      <td>60.0</td>\n",
       "    </tr>\n",
       "    <tr>\n",
       "      <th>또치</th>\n",
       "      <td>70.0</td>\n",
       "      <td>80.0</td>\n",
       "      <td>20</td>\n",
       "      <td>90.0</td>\n",
       "      <td>70.0</td>\n",
       "    </tr>\n",
       "    <tr>\n",
       "      <th>도우너</th>\n",
       "      <td>80.0</td>\n",
       "      <td>90.0</td>\n",
       "      <td>70</td>\n",
       "      <td>100.0</td>\n",
       "      <td>80.0</td>\n",
       "    </tr>\n",
       "  </tbody>\n",
       "</table>\n",
       "</div>"
      ],
      "text/plain": [
       "       국어    영어  사회     수학    과학\n",
       "둘리   60.0  70.0  60   80.0  60.0\n",
       "또치   70.0  80.0  20   90.0  70.0\n",
       "도우너  80.0  90.0  70  100.0  80.0"
      ]
     },
     "execution_count": 62,
     "metadata": {},
     "output_type": "execute_result"
    }
   ],
   "source": [
    "# temd = temd.drop('타조', axis = 0)\n",
    "temd"
   ]
  },
  {
   "cell_type": "markdown",
   "id": "b16b9249-c0d4-48ce-87a9-9d77fc5c1b7b",
   "metadata": {},
   "source": [
    "### 4.3 데이터 계산과 처리  \n",
    "시리즈에서 계산과 조건 검색"
   ]
  },
  {
   "cell_type": "code",
   "execution_count": 66,
   "id": "9b7284da-1762-4613-9977-9c6497b6b9dc",
   "metadata": {},
   "outputs": [
    {
     "name": "stdout",
     "output_type": "stream",
     "text": [
      "[-1, 0, 1, 2, 3]\n",
      "0   -1\n",
      "1    0\n",
      "2    1\n",
      "3    2\n",
      "4    3\n",
      "dtype: int64\n"
     ]
    },
    {
     "data": {
      "text/html": [
       "<div>\n",
       "<style scoped>\n",
       "    .dataframe tbody tr th:only-of-type {\n",
       "        vertical-align: middle;\n",
       "    }\n",
       "\n",
       "    .dataframe tbody tr th {\n",
       "        vertical-align: top;\n",
       "    }\n",
       "\n",
       "    .dataframe thead th {\n",
       "        text-align: right;\n",
       "    }\n",
       "</style>\n",
       "<table border=\"1\" class=\"dataframe\">\n",
       "  <thead>\n",
       "    <tr style=\"text-align: right;\">\n",
       "      <th></th>\n",
       "      <th>국어</th>\n",
       "      <th>영어</th>\n",
       "      <th>사회</th>\n",
       "      <th>수학</th>\n",
       "      <th>과학</th>\n",
       "    </tr>\n",
       "  </thead>\n",
       "  <tbody>\n",
       "    <tr>\n",
       "      <th>둘리</th>\n",
       "      <td>62.0</td>\n",
       "      <td>72.0</td>\n",
       "      <td>62</td>\n",
       "      <td>82.0</td>\n",
       "      <td>62.0</td>\n",
       "    </tr>\n",
       "    <tr>\n",
       "      <th>또치</th>\n",
       "      <td>72.0</td>\n",
       "      <td>82.0</td>\n",
       "      <td>22</td>\n",
       "      <td>92.0</td>\n",
       "      <td>72.0</td>\n",
       "    </tr>\n",
       "    <tr>\n",
       "      <th>도우너</th>\n",
       "      <td>82.0</td>\n",
       "      <td>92.0</td>\n",
       "      <td>72</td>\n",
       "      <td>102.0</td>\n",
       "      <td>82.0</td>\n",
       "    </tr>\n",
       "  </tbody>\n",
       "</table>\n",
       "</div>"
      ],
      "text/plain": [
       "       국어    영어  사회     수학    과학\n",
       "둘리   62.0  72.0  62   82.0  62.0\n",
       "또치   72.0  82.0  22   92.0  72.0\n",
       "도우너  82.0  92.0  72  102.0  82.0"
      ]
     },
     "execution_count": 66,
     "metadata": {},
     "output_type": "execute_result"
    }
   ],
   "source": [
    "# 모든 원소에 1 더하기\n",
    "lis = [-2, -1, 0, 1, 2]\n",
    "a = 0\n",
    "for i in lis:\n",
    "    lis[a] = i + 1\n",
    "    a += 1\n",
    "print(lis)\n",
    "\n",
    "tems = pd.Series([-2, -1, 0, 1, 2])\n",
    "tems += 1\n",
    "print(tems)\n",
    "\n",
    "temd += 1\n",
    "temd"
   ]
  },
  {
   "cell_type": "code",
   "execution_count": 68,
   "id": "f390d659-70ec-4ecb-9fdc-fac4332180e8",
   "metadata": {},
   "outputs": [
    {
     "name": "stdout",
     "output_type": "stream",
     "text": [
      "0    False\n",
      "1    False\n",
      "2     True\n",
      "3     True\n",
      "4     True\n",
      "dtype: bool\n",
      "2    1\n",
      "3    2\n",
      "4    3\n",
      "dtype: int64\n"
     ]
    }
   ],
   "source": [
    "# 조건 검색(양수만 찾기)\n",
    "print(tems > 0)\n",
    "print(tems[tems > 0])"
   ]
  },
  {
   "cell_type": "code",
   "execution_count": 72,
   "id": "b8cb24e2-b14c-4819-a14c-9df07ce26484",
   "metadata": {},
   "outputs": [
    {
     "data": {
      "text/html": [
       "<div>\n",
       "<style scoped>\n",
       "    .dataframe tbody tr th:only-of-type {\n",
       "        vertical-align: middle;\n",
       "    }\n",
       "\n",
       "    .dataframe tbody tr th {\n",
       "        vertical-align: top;\n",
       "    }\n",
       "\n",
       "    .dataframe thead th {\n",
       "        text-align: right;\n",
       "    }\n",
       "</style>\n",
       "<table border=\"1\" class=\"dataframe\">\n",
       "  <thead>\n",
       "    <tr style=\"text-align: right;\">\n",
       "      <th></th>\n",
       "      <th>국어</th>\n",
       "      <th>영어</th>\n",
       "      <th>사회</th>\n",
       "      <th>수학</th>\n",
       "      <th>과학</th>\n",
       "    </tr>\n",
       "  </thead>\n",
       "  <tbody>\n",
       "    <tr>\n",
       "      <th>둘리</th>\n",
       "      <td>NaN</td>\n",
       "      <td>72.0</td>\n",
       "      <td>NaN</td>\n",
       "      <td>82.0</td>\n",
       "      <td>NaN</td>\n",
       "    </tr>\n",
       "    <tr>\n",
       "      <th>또치</th>\n",
       "      <td>72.0</td>\n",
       "      <td>82.0</td>\n",
       "      <td>NaN</td>\n",
       "      <td>92.0</td>\n",
       "      <td>72.0</td>\n",
       "    </tr>\n",
       "    <tr>\n",
       "      <th>도우너</th>\n",
       "      <td>82.0</td>\n",
       "      <td>92.0</td>\n",
       "      <td>72.0</td>\n",
       "      <td>102.0</td>\n",
       "      <td>82.0</td>\n",
       "    </tr>\n",
       "  </tbody>\n",
       "</table>\n",
       "</div>"
      ],
      "text/plain": [
       "       국어    영어    사회     수학    과학\n",
       "둘리    NaN  72.0   NaN   82.0   NaN\n",
       "또치   72.0  82.0   NaN   92.0  72.0\n",
       "도우너  82.0  92.0  72.0  102.0  82.0"
      ]
     },
     "execution_count": 72,
     "metadata": {},
     "output_type": "execute_result"
    }
   ],
   "source": [
    "temd[temd > 70]"
   ]
  },
  {
   "cell_type": "code",
   "execution_count": 76,
   "id": "ea2d179d-717c-41c8-a5d4-e6e70ed7ef9c",
   "metadata": {},
   "outputs": [
    {
     "data": {
      "text/plain": [
       "1     2\n",
       "3     4\n",
       "5     6\n",
       "7     8\n",
       "9    10\n",
       "dtype: int64"
      ]
     },
     "execution_count": 76,
     "metadata": {},
     "output_type": "execute_result"
    }
   ],
   "source": [
    "tems = pd.Series(np.arange(1, 11))\n",
    "tems[tems % 2 == 0]"
   ]
  },
  {
   "cell_type": "markdown",
   "id": "4f748eef-6bc8-4430-9ea8-606e6f887240",
   "metadata": {},
   "source": [
    "데이터 프레임에서 계산과 처리"
   ]
  },
  {
   "cell_type": "code",
   "execution_count": 78,
   "id": "7c726531-7748-4ff3-a4a6-5473290eaab4",
   "metadata": {},
   "outputs": [
    {
     "data": {
      "text/html": [
       "<div>\n",
       "<style scoped>\n",
       "    .dataframe tbody tr th:only-of-type {\n",
       "        vertical-align: middle;\n",
       "    }\n",
       "\n",
       "    .dataframe tbody tr th {\n",
       "        vertical-align: top;\n",
       "    }\n",
       "\n",
       "    .dataframe thead th {\n",
       "        text-align: right;\n",
       "    }\n",
       "</style>\n",
       "<table border=\"1\" class=\"dataframe\">\n",
       "  <thead>\n",
       "    <tr style=\"text-align: right;\">\n",
       "      <th></th>\n",
       "      <th>국어</th>\n",
       "      <th>영어</th>\n",
       "      <th>수학</th>\n",
       "    </tr>\n",
       "  </thead>\n",
       "  <tbody>\n",
       "    <tr>\n",
       "      <th>둘리</th>\n",
       "      <td>60</td>\n",
       "      <td>70</td>\n",
       "      <td>80</td>\n",
       "    </tr>\n",
       "    <tr>\n",
       "      <th>또치</th>\n",
       "      <td>70</td>\n",
       "      <td>80</td>\n",
       "      <td>90</td>\n",
       "    </tr>\n",
       "    <tr>\n",
       "      <th>도우너</th>\n",
       "      <td>80</td>\n",
       "      <td>90</td>\n",
       "      <td>10</td>\n",
       "    </tr>\n",
       "  </tbody>\n",
       "</table>\n",
       "</div>"
      ],
      "text/plain": [
       "     국어  영어  수학\n",
       "둘리   60  70  80\n",
       "또치   70  80  90\n",
       "도우너  80  90  10"
      ]
     },
     "execution_count": 78,
     "metadata": {},
     "output_type": "execute_result"
    }
   ],
   "source": [
    "data = np.array([[60, 70, 80], [70, 80, 90], [80, 90, 10]])\n",
    "temd = pd.DataFrame(data, ['둘리', '또치', '도우너'], ['국어', '영어', '수학'])\n",
    "temd"
   ]
  },
  {
   "cell_type": "code",
   "execution_count": 85,
   "id": "9d557131-2b57-4ff0-94bb-8cf7637efabd",
   "metadata": {},
   "outputs": [
    {
     "name": "stdout",
     "output_type": "stream",
     "text": [
      "210\n"
     ]
    }
   ],
   "source": [
    "print(temd.loc['둘리'].sum())"
   ]
  },
  {
   "cell_type": "markdown",
   "id": "d1213b6b-1b17-4638-a13c-62fcf841a889",
   "metadata": {},
   "source": [
    "데이터프레임의 정렬"
   ]
  },
  {
   "cell_type": "code",
   "execution_count": 92,
   "id": "b643fad1-a902-4abc-a02b-7326f153b38f",
   "metadata": {},
   "outputs": [
    {
     "data": {
      "text/html": [
       "<div>\n",
       "<style scoped>\n",
       "    .dataframe tbody tr th:only-of-type {\n",
       "        vertical-align: middle;\n",
       "    }\n",
       "\n",
       "    .dataframe tbody tr th {\n",
       "        vertical-align: top;\n",
       "    }\n",
       "\n",
       "    .dataframe thead th {\n",
       "        text-align: right;\n",
       "    }\n",
       "</style>\n",
       "<table border=\"1\" class=\"dataframe\">\n",
       "  <thead>\n",
       "    <tr style=\"text-align: right;\">\n",
       "      <th></th>\n",
       "      <th>국어</th>\n",
       "      <th>영어</th>\n",
       "      <th>수학</th>\n",
       "    </tr>\n",
       "  </thead>\n",
       "  <tbody>\n",
       "    <tr>\n",
       "      <th>둘리</th>\n",
       "      <td>60</td>\n",
       "      <td>70</td>\n",
       "      <td>80</td>\n",
       "    </tr>\n",
       "    <tr>\n",
       "      <th>또치</th>\n",
       "      <td>70</td>\n",
       "      <td>80</td>\n",
       "      <td>90</td>\n",
       "    </tr>\n",
       "    <tr>\n",
       "      <th>도우너</th>\n",
       "      <td>80</td>\n",
       "      <td>90</td>\n",
       "      <td>10</td>\n",
       "    </tr>\n",
       "  </tbody>\n",
       "</table>\n",
       "</div>"
      ],
      "text/plain": [
       "     국어  영어  수학\n",
       "둘리   60  70  80\n",
       "또치   70  80  90\n",
       "도우너  80  90  10"
      ]
     },
     "execution_count": 92,
     "metadata": {},
     "output_type": "execute_result"
    }
   ],
   "source": [
    "temd.sort_values('국어', ascending = True)"
   ]
  },
  {
   "cell_type": "code",
   "execution_count": 96,
   "id": "f9ca16b7-6438-41d8-8b7c-47c0827e8e45",
   "metadata": {},
   "outputs": [
    {
     "data": {
      "text/html": [
       "<div>\n",
       "<style scoped>\n",
       "    .dataframe tbody tr th:only-of-type {\n",
       "        vertical-align: middle;\n",
       "    }\n",
       "\n",
       "    .dataframe tbody tr th {\n",
       "        vertical-align: top;\n",
       "    }\n",
       "\n",
       "    .dataframe thead th {\n",
       "        text-align: right;\n",
       "    }\n",
       "</style>\n",
       "<table border=\"1\" class=\"dataframe\">\n",
       "  <thead>\n",
       "    <tr style=\"text-align: right;\">\n",
       "      <th></th>\n",
       "      <th>국어</th>\n",
       "      <th>영어</th>\n",
       "      <th>수학</th>\n",
       "    </tr>\n",
       "  </thead>\n",
       "  <tbody>\n",
       "    <tr>\n",
       "      <th>또치</th>\n",
       "      <td>61</td>\n",
       "      <td>78</td>\n",
       "      <td>83</td>\n",
       "    </tr>\n",
       "    <tr>\n",
       "      <th>도우너</th>\n",
       "      <td>66</td>\n",
       "      <td>88</td>\n",
       "      <td>86</td>\n",
       "    </tr>\n",
       "    <tr>\n",
       "      <th>둘리</th>\n",
       "      <td>90</td>\n",
       "      <td>96</td>\n",
       "      <td>66</td>\n",
       "    </tr>\n",
       "  </tbody>\n",
       "</table>\n",
       "</div>"
      ],
      "text/plain": [
       "     국어  영어  수학\n",
       "또치   61  78  83\n",
       "도우너  66  88  86\n",
       "둘리   90  96  66"
      ]
     },
     "execution_count": 96,
     "metadata": {},
     "output_type": "execute_result"
    }
   ],
   "source": [
    "# 랜덤함수로 시험점수 생성\n",
    "temd = np.random.randint(60, 100, 9)\n",
    "arr = temd.reshape(3, 3)\n",
    "temd = pd.DataFrame(arr, ['둘리', '또치', '도우너'], ['국어', '영어', '수학'])\n",
    "temd.sort_values('국어', ascending = True)"
   ]
  },
  {
   "cell_type": "markdown",
   "id": "4f940714-765c-4e67-b374-cfcdc637b6df",
   "metadata": {},
   "source": [
    "nan 처리  \n",
    "누락된 값, 빈값  \n",
    "예를들어 엑셀에서 빈셀을 표현할 때 사용  "
   ]
  },
  {
   "cell_type": "code",
   "execution_count": 97,
   "id": "a35d8b83-fd4e-4e2e-90bb-c1550003da5e",
   "metadata": {},
   "outputs": [
    {
     "data": {
      "text/html": [
       "<div>\n",
       "<style scoped>\n",
       "    .dataframe tbody tr th:only-of-type {\n",
       "        vertical-align: middle;\n",
       "    }\n",
       "\n",
       "    .dataframe tbody tr th {\n",
       "        vertical-align: top;\n",
       "    }\n",
       "\n",
       "    .dataframe thead th {\n",
       "        text-align: right;\n",
       "    }\n",
       "</style>\n",
       "<table border=\"1\" class=\"dataframe\">\n",
       "  <thead>\n",
       "    <tr style=\"text-align: right;\">\n",
       "      <th></th>\n",
       "      <th>국어</th>\n",
       "      <th>영어</th>\n",
       "      <th>수학</th>\n",
       "    </tr>\n",
       "  </thead>\n",
       "  <tbody>\n",
       "    <tr>\n",
       "      <th>둘리</th>\n",
       "      <td>90</td>\n",
       "      <td>NaN</td>\n",
       "      <td>66</td>\n",
       "    </tr>\n",
       "    <tr>\n",
       "      <th>또치</th>\n",
       "      <td>61</td>\n",
       "      <td>78.0</td>\n",
       "      <td>83</td>\n",
       "    </tr>\n",
       "    <tr>\n",
       "      <th>도우너</th>\n",
       "      <td>66</td>\n",
       "      <td>88.0</td>\n",
       "      <td>86</td>\n",
       "    </tr>\n",
       "  </tbody>\n",
       "</table>\n",
       "</div>"
      ],
      "text/plain": [
       "     국어    영어  수학\n",
       "둘리   90   NaN  66\n",
       "또치   61  78.0  83\n",
       "도우너  66  88.0  86"
      ]
     },
     "execution_count": 97,
     "metadata": {},
     "output_type": "execute_result"
    }
   ],
   "source": [
    "temd.loc['둘리', '영어'] = np.nan\n",
    "temd"
   ]
  },
  {
   "cell_type": "markdown",
   "id": "a3f97d66-08ad-432f-8166-f0253011a392",
   "metadata": {},
   "source": [
    "### 4.4 데이터 탐색  \n",
    "데이터의 상태나 특징을 파악하는 작업"
   ]
  },
  {
   "cell_type": "code",
   "execution_count": 2,
   "id": "160b6433-8cd5-4784-a092-7f63e22f0f2e",
   "metadata": {},
   "outputs": [
    {
     "data": {
      "text/plain": [
       "array(['사과', '배', '바나나'], dtype=object)"
      ]
     },
     "execution_count": 2,
     "metadata": {},
     "output_type": "execute_result"
    }
   ],
   "source": [
    "tems = pd.Series(['사과', '배', '사과', '배', '바나나'])\n",
    "tems.unique()"
   ]
  },
  {
   "cell_type": "code",
   "execution_count": 5,
   "id": "36e57f9a-ad18-4ab8-a2d6-7d42819f7c21",
   "metadata": {},
   "outputs": [
    {
     "data": {
      "text/plain": [
       "사과     2\n",
       "배      2\n",
       "바나나    1\n",
       "Name: count, dtype: int64"
      ]
     },
     "execution_count": 5,
     "metadata": {},
     "output_type": "execute_result"
    }
   ],
   "source": [
    "tems.value_counts()"
   ]
  },
  {
   "cell_type": "code",
   "execution_count": null,
   "id": "1e86c0b2-cf09-4e75-9eeb-fd8ca670fd6a",
   "metadata": {},
   "outputs": [],
   "source": []
  },
  {
   "cell_type": "code",
   "execution_count": null,
   "id": "b5a5b9b5-7028-4961-ba31-cd310dee3687",
   "metadata": {},
   "outputs": [],
   "source": []
  },
  {
   "cell_type": "code",
   "execution_count": null,
   "id": "bd5fd96c-a1b0-43c8-a585-8338ad27801f",
   "metadata": {},
   "outputs": [],
   "source": []
  },
  {
   "cell_type": "code",
   "execution_count": null,
   "id": "1b9d6da2-5a91-41b6-954b-b5b013751ee2",
   "metadata": {},
   "outputs": [],
   "source": []
  }
 ],
 "metadata": {
  "kernelspec": {
   "display_name": "Python 3 (ipykernel)",
   "language": "python",
   "name": "python3"
  },
  "language_info": {
   "codemirror_mode": {
    "name": "ipython",
    "version": 3
   },
   "file_extension": ".py",
   "mimetype": "text/x-python",
   "name": "python",
   "nbconvert_exporter": "python",
   "pygments_lexer": "ipython3",
   "version": "3.10.18"
  }
 },
 "nbformat": 4,
 "nbformat_minor": 5
}
